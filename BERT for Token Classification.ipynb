{
 "cells": [
  {
   "cell_type": "code",
   "execution_count": 52,
   "id": "5cb59f36",
   "metadata": {},
   "outputs": [
    {
     "data": {
      "text/plain": [
       "[b'BOS listen to westbam alumb allergic on google music EOS\\tO O O B-artist O B-album O B-service I-service PlayMusic\\r\\n',\n",
       " b'BOS add step to me to the 50 cl\\xc3\\xa1sicos playlist EOS\\tO O B-entity_name I-entity_name I-entity_name O O B-playlist I-playlist O AddToPlaylist\\r\\n',\n",
       " b'BOS i give this current textbook a rating value of 1 and a best rating of 6 EOS\\tO O O O B-object_select B-object_type O O O O B-rating_value O O O O O B-best_rating RateBook\\r\\n',\n",
       " b'BOS play the song little robin redbreast EOS\\tO O O B-music_item B-track I-track I-track PlayMusic\\r\\n',\n",
       " b'BOS please add iris dement to my playlist this is selena EOS\\tO O O B-artist I-artist O B-playlist_owner O B-playlist I-playlist I-playlist AddToPlaylist\\r\\n']"
      ]
     },
     "execution_count": 52,
     "metadata": {},
     "output_type": "execute_result"
    }
   ],
   "source": [
    "snips_file = open('data/snips_train.txt', 'rb')\n",
    "snips_rows = snips_file.readlines()\n",
    "snips_rows[:5]"
   ]
  },
  {
   "cell_type": "code",
   "execution_count": 53,
   "id": "0b668f7c",
   "metadata": {},
   "outputs": [],
   "source": [
    "tokenized_utterances = []\n",
    "labels_for_tokens = []\n",
    "for snips_row in snips_rows:\n",
    "    a = snips_row.decode()[4:].split(' EOS\\t')\n",
    "    tokenized_utterances.append(a[0].split())\n",
    "    labels_for_tokens.append(a[1].split()[:-1])"
   ]
  },
  {
   "cell_type": "code",
   "execution_count": 54,
   "id": "56610ee4",
   "metadata": {},
   "outputs": [
    {
     "data": {
      "text/plain": [
       "[['listen', 'to', 'westbam', 'alumb', 'allergic', 'on', 'google', 'music'],\n",
       " ['add', 'step', 'to', 'me', 'to', 'the', '50', 'clásicos', 'playlist']]"
      ]
     },
     "execution_count": 54,
     "metadata": {},
     "output_type": "execute_result"
    }
   ],
   "source": [
    "tokenized_utterances[:2]"
   ]
  },
  {
   "cell_type": "code",
   "execution_count": 55,
   "id": "66196be3",
   "metadata": {},
   "outputs": [
    {
     "data": {
      "text/plain": [
       "[['O', 'O', 'O', 'B-artist', 'O', 'B-album', 'O', 'B-service', 'I-service'],\n",
       " ['O',\n",
       "  'O',\n",
       "  'B-entity_name',\n",
       "  'I-entity_name',\n",
       "  'I-entity_name',\n",
       "  'O',\n",
       "  'O',\n",
       "  'B-playlist',\n",
       "  'I-playlist',\n",
       "  'O']]"
      ]
     },
     "execution_count": 55,
     "metadata": {},
     "output_type": "execute_result"
    }
   ],
   "source": [
    "labels_for_tokens[:2]"
   ]
  },
  {
   "cell_type": "code",
   "execution_count": 56,
   "id": "b1527fa2",
   "metadata": {},
   "outputs": [
    {
     "data": {
      "text/plain": [
       "['O',\n",
       " 'O',\n",
       " 'B-object_name',\n",
       " 'I-object_name',\n",
       " 'B-rating_value',\n",
       " 'O',\n",
       " 'O',\n",
       " 'B-best_rating']"
      ]
     },
     "execution_count": 56,
     "metadata": {},
     "output_type": "execute_result"
    }
   ],
   "source": [
    "a[1].split()[:-1]"
   ]
  },
  {
   "cell_type": "code",
   "execution_count": 57,
   "id": "ae4c0356",
   "metadata": {},
   "outputs": [
    {
     "data": {
      "text/plain": [
       "['rate', 'richard', 'carvel', '4', 'out', 'of', '6']"
      ]
     },
     "execution_count": 57,
     "metadata": {},
     "output_type": "execute_result"
    }
   ],
   "source": [
    "a[0].split()"
   ]
  },
  {
   "cell_type": "code",
   "execution_count": 58,
   "id": "812300d8",
   "metadata": {},
   "outputs": [],
   "source": [
    "from transformers import DataCollatorForTokenClassification, DistilBertForTokenClassification, \\\n",
    "        DistilBertTokenizerFast, pipeline"
   ]
  },
  {
   "cell_type": "code",
   "execution_count": 59,
   "id": "ef7f0591",
   "metadata": {},
   "outputs": [],
   "source": [
    "tokenizer = DistilBertTokenizerFast.from_pretrained('distilbert-base-uncased')"
   ]
  },
  {
   "cell_type": "code",
   "execution_count": 60,
   "id": "963fc2aa",
   "metadata": {},
   "outputs": [
    {
     "name": "stdout",
     "output_type": "stream",
     "text": [
      "There are 72 unique token labels\n"
     ]
    }
   ],
   "source": [
    "from functools import reduce\n",
    "\n",
    "unique_token_labels = list(set(reduce(lambda x, y: x + y, labels_for_tokens)))\n",
    "labels_for_tokens = [[unique_token_labels.index(_) for _ in l] for l in labels_for_tokens]\n",
    "\n",
    "print(f\"There are {len(unique_token_labels)} unique token labels\")"
   ]
  },
  {
   "cell_type": "code",
   "execution_count": 61,
   "id": "a751c287",
   "metadata": {},
   "outputs": [
    {
     "data": {
      "text/plain": [
       "[[31, 31, 31, 24, 31, 49, 31, 10, 69], [31, 31, 59, 65, 65, 31, 31, 39, 9, 31]]"
      ]
     },
     "execution_count": 61,
     "metadata": {},
     "output_type": "execute_result"
    }
   ],
   "source": [
    "labels_for_tokens[:2]"
   ]
  },
  {
   "cell_type": "code",
   "execution_count": 62,
   "id": "15f2f282",
   "metadata": {},
   "outputs": [],
   "source": [
    "def tokenize_and_align_labels(examples):\n",
    "    \n",
    "    tokenized_inputs = tokenizer(examples['tokens'], truncation = True, is_split_into_words = True)\n",
    "    \n",
    "    labels = []\n",
    "    for i, label in enumerate(examples[f\"token_labels\"]):\n",
    "        word_ids = tokenized_inputs.word_ids(batch_index=i)\n",
    "        previous_word_idx = None\n",
    "        label_ids = []\n",
    "        for word_idx in word_ids:\n",
    "            if word_idx is None:\n",
    "                label_ids.append(-100)\n",
    "            elif word_idx != previous_word_idx:\n",
    "                label_ids.append(label[word_idx])\n",
    "            else:\n",
    "                label_ids.append(-100)\n",
    "            previous_word_idx = word_idx\n",
    "        labels.append(label_ids)\n",
    "    \n",
    "    tokenized_inputs[\"labels\"] = labels\n",
    "    return tokenized_inputs"
   ]
  },
  {
   "cell_type": "code",
   "execution_count": 63,
   "id": "e35a0edb",
   "metadata": {},
   "outputs": [],
   "source": [
    "import datasets"
   ]
  },
  {
   "cell_type": "code",
   "execution_count": 64,
   "id": "887281ac",
   "metadata": {},
   "outputs": [],
   "source": [
    "snips_dataset = datasets.Dataset.from_dict(\n",
    "    dict(\n",
    "        tokens = tokenized_utterances,\n",
    "        token_labels = labels_for_tokens\n",
    "    )\n",
    ")\n",
    "\n",
    "snips_dataset = snips_dataset.train_test_split(test_size = 0.2)"
   ]
  },
  {
   "cell_type": "code",
   "execution_count": 65,
   "id": "d0458b8d",
   "metadata": {},
   "outputs": [
    {
     "data": {
      "text/plain": [
       "{'tokens': ['what',\n",
       "  's',\n",
       "  'the',\n",
       "  'weather',\n",
       "  'for',\n",
       "  'april',\n",
       "  '10th',\n",
       "  '2028',\n",
       "  'in',\n",
       "  'arkansas'],\n",
       " 'token_labels': [31, 31, 31, 31, 31, 31, 20, 50, 50, 31, 12]}"
      ]
     },
     "execution_count": 65,
     "metadata": {},
     "output_type": "execute_result"
    }
   ],
   "source": [
    "snips_dataset['train'][0]"
   ]
  },
  {
   "cell_type": "code",
   "execution_count": 66,
   "id": "14d53cbd",
   "metadata": {},
   "outputs": [
    {
     "data": {
      "application/vnd.jupyter.widget-view+json": {
       "model_id": "39d4a2a2fa9a45ce9a200cb71b1203e4",
       "version_major": 2,
       "version_minor": 0
      },
      "text/plain": [
       "Map:   0%|          | 0/10467 [00:00<?, ? examples/s]"
      ]
     },
     "metadata": {},
     "output_type": "display_data"
    },
    {
     "data": {
      "application/vnd.jupyter.widget-view+json": {
       "model_id": "8eef56e0b01944f0900ac0b69281327f",
       "version_major": 2,
       "version_minor": 0
      },
      "text/plain": [
       "Map:   0%|          | 0/2617 [00:00<?, ? examples/s]"
      ]
     },
     "metadata": {},
     "output_type": "display_data"
    }
   ],
   "source": [
    "tok_clf_tokenized_snips = snips_dataset.map(tokenize_and_align_labels, batched = True)"
   ]
  },
  {
   "cell_type": "code",
   "execution_count": 67,
   "id": "f4b4c652",
   "metadata": {},
   "outputs": [
    {
     "data": {
      "text/plain": [
       "':'"
      ]
     },
     "execution_count": 67,
     "metadata": {},
     "output_type": "execute_result"
    }
   ],
   "source": [
    "tokenizer.decode([1024])"
   ]
  },
  {
   "cell_type": "code",
   "execution_count": 68,
   "id": "803c9a76",
   "metadata": {},
   "outputs": [
    {
     "data": {
      "text/plain": [
       "{'tokens': ['what',\n",
       "  's',\n",
       "  'the',\n",
       "  'weather',\n",
       "  'for',\n",
       "  'april',\n",
       "  '10th',\n",
       "  '2028',\n",
       "  'in',\n",
       "  'arkansas'],\n",
       " 'token_labels': [31, 31, 31, 31, 31, 31, 20, 50, 50, 31, 12],\n",
       " 'input_ids': [101,\n",
       "  2054,\n",
       "  1055,\n",
       "  1996,\n",
       "  4633,\n",
       "  2005,\n",
       "  2258,\n",
       "  6049,\n",
       "  16798,\n",
       "  2620,\n",
       "  1999,\n",
       "  6751,\n",
       "  102],\n",
       " 'attention_mask': [1, 1, 1, 1, 1, 1, 1, 1, 1, 1, 1, 1, 1],\n",
       " 'labels': [-100, 31, 31, 31, 31, 31, 31, 20, 50, -100, 50, 31, -100]}"
      ]
     },
     "execution_count": 68,
     "metadata": {},
     "output_type": "execute_result"
    }
   ],
   "source": [
    "tok_clf_tokenized_snips['train'][0]"
   ]
  },
  {
   "cell_type": "code",
   "execution_count": 69,
   "id": "3486864c",
   "metadata": {},
   "outputs": [],
   "source": [
    "tok_clf_tokenized_snips['train'] = tok_clf_tokenized_snips['train'].remove_columns(['tokens', 'token_labels'])"
   ]
  },
  {
   "cell_type": "code",
   "execution_count": 70,
   "id": "2bb3139d",
   "metadata": {},
   "outputs": [],
   "source": [
    "tok_clf_tokenized_snips['test'] = tok_clf_tokenized_snips['test'].remove_columns(['tokens', 'token_labels'])"
   ]
  },
  {
   "cell_type": "code",
   "execution_count": 71,
   "id": "177300fd",
   "metadata": {},
   "outputs": [
    {
     "data": {
      "text/plain": [
       "DatasetDict({\n",
       "    train: Dataset({\n",
       "        features: ['input_ids', 'attention_mask', 'labels'],\n",
       "        num_rows: 10467\n",
       "    })\n",
       "    test: Dataset({\n",
       "        features: ['input_ids', 'attention_mask', 'labels'],\n",
       "        num_rows: 2617\n",
       "    })\n",
       "})"
      ]
     },
     "execution_count": 71,
     "metadata": {},
     "output_type": "execute_result"
    }
   ],
   "source": [
    "tok_clf_tokenized_snips"
   ]
  },
  {
   "cell_type": "code",
   "execution_count": 72,
   "id": "98e4b172",
   "metadata": {},
   "outputs": [],
   "source": [
    "tok_data_collator = DataCollatorForTokenClassification(tokenizer = tokenizer)"
   ]
  },
  {
   "cell_type": "code",
   "execution_count": 73,
   "id": "516909b9",
   "metadata": {},
   "outputs": [
    {
     "name": "stderr",
     "output_type": "stream",
     "text": [
      "Some weights of DistilBertForTokenClassification were not initialized from the model checkpoint at distilbert-base-uncased and are newly initialized: ['classifier.bias', 'classifier.weight']\n",
      "You should probably TRAIN this model on a down-stream task to be able to use it for predictions and inference.\n"
     ]
    }
   ],
   "source": [
    "tok_clf_model = DistilBertForTokenClassification.from_pretrained('distilbert-base-uncased', num_labels = len(unique_token_labels))"
   ]
  },
  {
   "cell_type": "code",
   "execution_count": 75,
   "id": "edfc262c",
   "metadata": {},
   "outputs": [],
   "source": [
    "tok_clf_model.config.id2label = {i : l for i, l in enumerate(unique_token_labels)}"
   ]
  },
  {
   "cell_type": "code",
   "execution_count": 79,
   "id": "a86aa5bd",
   "metadata": {},
   "outputs": [],
   "source": [
    "from transformers import Trainer, TrainingArguments"
   ]
  },
  {
   "cell_type": "code",
   "execution_count": 81,
   "id": "ac972005",
   "metadata": {},
   "outputs": [],
   "source": [
    "epochs = 2\n",
    "\n",
    "training_args = TrainingArguments(\n",
    "    output_dir = \"./snips_tok_clf/results\",\n",
    "    num_train_epochs = epochs,\n",
    "    per_device_train_batch_size = 32,\n",
    "    per_device_eval_batch_size = 32,\n",
    "    load_best_model_at_end = True,\n",
    "    \n",
    "    # some deep learning params that the trainer is able to take in\n",
    "    \n",
    "#     warmup_steps = len(seq_clf_tokenized_snips['train']) // 5, # no. of warmup steps for learning rate scheduler\n",
    "#     weight_decay = 0.05,\n",
    "    \n",
    "    logging_steps = 10,\n",
    "    log_level = 'info',\n",
    "    eval_strategy = 'epoch',\n",
    "    save_strategy = 'epoch'\n",
    ")\n",
    "\n",
    "\n",
    "trainer = Trainer(\n",
    "    model = tok_clf_model,\n",
    "    args = training_args,\n",
    "    train_dataset = tok_clf_tokenized_snips['train'],\n",
    "    eval_dataset = tok_clf_tokenized_snips['test'],\n",
    "#     compute_metrics = compute_metrics,\n",
    "    data_collator = tok_data_collator\n",
    ")"
   ]
  },
  {
   "cell_type": "code",
   "execution_count": 82,
   "id": "f7232c6f",
   "metadata": {},
   "outputs": [
    {
     "name": "stderr",
     "output_type": "stream",
     "text": [
      "\n",
      "***** Running Evaluation *****\n",
      "  Num examples = 2617\n",
      "  Batch size = 32\n"
     ]
    },
    {
     "data": {
      "text/html": [
       "\n",
       "    <div>\n",
       "      \n",
       "      <progress value='164' max='82' style='width:300px; height:20px; vertical-align: middle;'></progress>\n",
       "      [82/82 18:57]\n",
       "    </div>\n",
       "    "
      ],
      "text/plain": [
       "<IPython.core.display.HTML object>"
      ]
     },
     "metadata": {},
     "output_type": "display_data"
    },
    {
     "data": {
      "text/plain": [
       "{'eval_loss': 4.319265365600586,\n",
       " 'eval_model_preparation_time': 0.004,\n",
       " 'eval_runtime': 90.9478,\n",
       " 'eval_samples_per_second': 28.775,\n",
       " 'eval_steps_per_second': 0.902}"
      ]
     },
     "execution_count": 82,
     "metadata": {},
     "output_type": "execute_result"
    }
   ],
   "source": [
    "trainer.evaluate()"
   ]
  },
  {
   "cell_type": "code",
   "execution_count": 83,
   "id": "b469b3c3",
   "metadata": {},
   "outputs": [
    {
     "name": "stderr",
     "output_type": "stream",
     "text": [
      "***** Running training *****\n",
      "  Num examples = 10,467\n",
      "  Num Epochs = 2\n",
      "  Instantaneous batch size per device = 32\n",
      "  Total train batch size (w. parallel, distributed & accumulation) = 32\n",
      "  Gradient Accumulation steps = 1\n",
      "  Total optimization steps = 656\n",
      "  Number of trainable parameters = 66,418,248\n"
     ]
    },
    {
     "data": {
      "text/html": [
       "\n",
       "    <div>\n",
       "      \n",
       "      <progress value='656' max='656' style='width:300px; height:20px; vertical-align: middle;'></progress>\n",
       "      [656/656 34:06, Epoch 2/2]\n",
       "    </div>\n",
       "    <table border=\"1\" class=\"dataframe\">\n",
       "  <thead>\n",
       " <tr style=\"text-align: left;\">\n",
       "      <th>Epoch</th>\n",
       "      <th>Training Loss</th>\n",
       "      <th>Validation Loss</th>\n",
       "      <th>Model Preparation Time</th>\n",
       "    </tr>\n",
       "  </thead>\n",
       "  <tbody>\n",
       "    <tr>\n",
       "      <td>1</td>\n",
       "      <td>0.289100</td>\n",
       "      <td>0.231090</td>\n",
       "      <td>0.004000</td>\n",
       "    </tr>\n",
       "    <tr>\n",
       "      <td>2</td>\n",
       "      <td>0.151000</td>\n",
       "      <td>0.157431</td>\n",
       "      <td>0.004000</td>\n",
       "    </tr>\n",
       "  </tbody>\n",
       "</table><p>"
      ],
      "text/plain": [
       "<IPython.core.display.HTML object>"
      ]
     },
     "metadata": {},
     "output_type": "display_data"
    },
    {
     "name": "stderr",
     "output_type": "stream",
     "text": [
      "\n",
      "***** Running Evaluation *****\n",
      "  Num examples = 2617\n",
      "  Batch size = 32\n",
      "Saving model checkpoint to ./snips_tok_clf/results\\checkpoint-328\n",
      "Configuration saved in ./snips_tok_clf/results\\checkpoint-328\\config.json\n",
      "Model weights saved in ./snips_tok_clf/results\\checkpoint-328\\model.safetensors\n",
      "Saving model checkpoint to ./snips_tok_clf/results\\checkpoint-656\n",
      "Configuration saved in ./snips_tok_clf/results\\checkpoint-656\\config.json\n",
      "Model weights saved in ./snips_tok_clf/results\\checkpoint-656\\model.safetensors\n",
      "\n",
      "***** Running Evaluation *****\n",
      "  Num examples = 2617\n",
      "  Batch size = 32\n",
      "Saving model checkpoint to ./snips_tok_clf/results\\checkpoint-656\n",
      "Configuration saved in ./snips_tok_clf/results\\checkpoint-656\\config.json\n",
      "Model weights saved in ./snips_tok_clf/results\\checkpoint-656\\model.safetensors\n",
      "\n",
      "\n",
      "Training completed. Do not forget to share your model on huggingface.co/models =)\n",
      "\n",
      "\n",
      "Loading best model from ./snips_tok_clf/results\\checkpoint-656 (score: 0.15743082761764526).\n"
     ]
    },
    {
     "data": {
      "text/plain": [
       "TrainOutput(global_step=656, training_loss=0.49110321500679344, metrics={'train_runtime': 2048.7072, 'train_samples_per_second': 10.218, 'train_steps_per_second': 0.32, 'total_flos': 115873222589712.0, 'train_loss': 0.49110321500679344, 'epoch': 2.0})"
      ]
     },
     "execution_count": 83,
     "metadata": {},
     "output_type": "execute_result"
    }
   ],
   "source": [
    "trainer.train()"
   ]
  },
  {
   "cell_type": "code",
   "execution_count": 84,
   "id": "142e7ce3",
   "metadata": {},
   "outputs": [
    {
     "name": "stderr",
     "output_type": "stream",
     "text": [
      "\n",
      "***** Running Evaluation *****\n",
      "  Num examples = 2617\n",
      "  Batch size = 32\n"
     ]
    },
    {
     "data": {
      "text/html": [
       "\n",
       "    <div>\n",
       "      \n",
       "      <progress value='82' max='82' style='width:300px; height:20px; vertical-align: middle;'></progress>\n",
       "      [82/82 01:12]\n",
       "    </div>\n",
       "    "
      ],
      "text/plain": [
       "<IPython.core.display.HTML object>"
      ]
     },
     "metadata": {},
     "output_type": "display_data"
    },
    {
     "data": {
      "text/plain": [
       "{'eval_loss': 0.15743082761764526,\n",
       " 'eval_model_preparation_time': 0.004,\n",
       " 'eval_runtime': 73.4315,\n",
       " 'eval_samples_per_second': 35.639,\n",
       " 'eval_steps_per_second': 1.117,\n",
       " 'epoch': 2.0}"
      ]
     },
     "execution_count": 84,
     "metadata": {},
     "output_type": "execute_result"
    }
   ],
   "source": [
    "trainer.evaluate()"
   ]
  },
  {
   "cell_type": "code",
   "execution_count": 85,
   "id": "6909d353",
   "metadata": {},
   "outputs": [
    {
     "name": "stderr",
     "output_type": "stream",
     "text": [
      "Saving model checkpoint to ./snips_tok_clf/results\n",
      "Configuration saved in ./snips_tok_clf/results\\config.json\n",
      "Model weights saved in ./snips_tok_clf/results\\model.safetensors\n"
     ]
    }
   ],
   "source": [
    "trainer.save_model()"
   ]
  },
  {
   "cell_type": "code",
   "execution_count": 87,
   "id": "adf41f6c",
   "metadata": {},
   "outputs": [
    {
     "name": "stderr",
     "output_type": "stream",
     "text": [
      "loading configuration file ./snips_tok_clf/results\\config.json\n",
      "Model config DistilBertConfig {\n",
      "  \"_name_or_path\": \"./snips_tok_clf/results\",\n",
      "  \"activation\": \"gelu\",\n",
      "  \"architectures\": [\n",
      "    \"DistilBertForTokenClassification\"\n",
      "  ],\n",
      "  \"attention_dropout\": 0.1,\n",
      "  \"dim\": 768,\n",
      "  \"dropout\": 0.1,\n",
      "  \"hidden_dim\": 3072,\n",
      "  \"id2label\": {\n",
      "    \"0\": \"I-geographic_poi\",\n",
      "    \"1\": \"I-spatial_relation\",\n",
      "    \"2\": \"I-cuisine\",\n",
      "    \"3\": \"I-object_select\",\n",
      "    \"4\": \"B-object_type\",\n",
      "    \"5\": \"B-playlist_owner\",\n",
      "    \"6\": \"I-party_size_description\",\n",
      "    \"7\": \"I-movie_type\",\n",
      "    \"8\": \"I-playlist_owner\",\n",
      "    \"9\": \"I-playlist\",\n",
      "    \"10\": \"B-service\",\n",
      "    \"11\": \"I-state\",\n",
      "    \"12\": \"B-state\",\n",
      "    \"13\": \"B-served_dish\",\n",
      "    \"14\": \"B-track\",\n",
      "    \"15\": \"B-current_location\",\n",
      "    \"16\": \"B-location_name\",\n",
      "    \"17\": \"B-restaurant_type\",\n",
      "    \"18\": \"I-poi\",\n",
      "    \"19\": \"B-party_size_number\",\n",
      "    \"20\": \"B-timeRange\",\n",
      "    \"21\": \"I-served_dish\",\n",
      "    \"22\": \"B-genre\",\n",
      "    \"23\": \"I-facility\",\n",
      "    \"24\": \"B-artist\",\n",
      "    \"25\": \"I-album\",\n",
      "    \"26\": \"B-party_size_description\",\n",
      "    \"27\": \"I-sort\",\n",
      "    \"28\": \"B-condition_description\",\n",
      "    \"29\": \"B-sort\",\n",
      "    \"30\": \"I-object_part_of_series_type\",\n",
      "    \"31\": \"O\",\n",
      "    \"32\": \"B-rating_unit\",\n",
      "    \"33\": \"I-object_name\",\n",
      "    \"34\": \"B-music_item\",\n",
      "    \"35\": \"B-city\",\n",
      "    \"36\": \"B-object_select\",\n",
      "    \"37\": \"B-poi\",\n",
      "    \"38\": \"I-music_item\",\n",
      "    \"39\": \"B-playlist\",\n",
      "    \"40\": \"B-year\",\n",
      "    \"41\": \"B-restaurant_name\",\n",
      "    \"42\": \"I-location_name\",\n",
      "    \"43\": \"I-restaurant_type\",\n",
      "    \"44\": \"I-track\",\n",
      "    \"45\": \"I-object_location_type\",\n",
      "    \"46\": \"B-movie_type\",\n",
      "    \"47\": \"I-country\",\n",
      "    \"48\": \"B-best_rating\",\n",
      "    \"49\": \"B-album\",\n",
      "    \"50\": \"I-timeRange\",\n",
      "    \"51\": \"B-geographic_poi\",\n",
      "    \"52\": \"I-city\",\n",
      "    \"53\": \"B-rating_value\",\n",
      "    \"54\": \"I-artist\",\n",
      "    \"55\": \"I-movie_name\",\n",
      "    \"56\": \"I-object_type\",\n",
      "    \"57\": \"B-facility\",\n",
      "    \"58\": \"I-genre\",\n",
      "    \"59\": \"B-entity_name\",\n",
      "    \"60\": \"B-condition_temperature\",\n",
      "    \"61\": \"B-object_part_of_series_type\",\n",
      "    \"62\": \"B-cuisine\",\n",
      "    \"63\": \"I-current_location\",\n",
      "    \"64\": \"B-country\",\n",
      "    \"65\": \"I-entity_name\",\n",
      "    \"66\": \"I-restaurant_name\",\n",
      "    \"67\": \"B-object_name\",\n",
      "    \"68\": \"B-spatial_relation\",\n",
      "    \"69\": \"I-service\",\n",
      "    \"70\": \"B-movie_name\",\n",
      "    \"71\": \"B-object_location_type\"\n",
      "  },\n",
      "  \"initializer_range\": 0.02,\n",
      "  \"label2id\": {\n",
      "    \"LABEL_0\": 0,\n",
      "    \"LABEL_1\": 1,\n",
      "    \"LABEL_10\": 10,\n",
      "    \"LABEL_11\": 11,\n",
      "    \"LABEL_12\": 12,\n",
      "    \"LABEL_13\": 13,\n",
      "    \"LABEL_14\": 14,\n",
      "    \"LABEL_15\": 15,\n",
      "    \"LABEL_16\": 16,\n",
      "    \"LABEL_17\": 17,\n",
      "    \"LABEL_18\": 18,\n",
      "    \"LABEL_19\": 19,\n",
      "    \"LABEL_2\": 2,\n",
      "    \"LABEL_20\": 20,\n",
      "    \"LABEL_21\": 21,\n",
      "    \"LABEL_22\": 22,\n",
      "    \"LABEL_23\": 23,\n",
      "    \"LABEL_24\": 24,\n",
      "    \"LABEL_25\": 25,\n",
      "    \"LABEL_26\": 26,\n",
      "    \"LABEL_27\": 27,\n",
      "    \"LABEL_28\": 28,\n",
      "    \"LABEL_29\": 29,\n",
      "    \"LABEL_3\": 3,\n",
      "    \"LABEL_30\": 30,\n",
      "    \"LABEL_31\": 31,\n",
      "    \"LABEL_32\": 32,\n",
      "    \"LABEL_33\": 33,\n",
      "    \"LABEL_34\": 34,\n",
      "    \"LABEL_35\": 35,\n",
      "    \"LABEL_36\": 36,\n",
      "    \"LABEL_37\": 37,\n",
      "    \"LABEL_38\": 38,\n",
      "    \"LABEL_39\": 39,\n",
      "    \"LABEL_4\": 4,\n",
      "    \"LABEL_40\": 40,\n",
      "    \"LABEL_41\": 41,\n",
      "    \"LABEL_42\": 42,\n",
      "    \"LABEL_43\": 43,\n",
      "    \"LABEL_44\": 44,\n",
      "    \"LABEL_45\": 45,\n",
      "    \"LABEL_46\": 46,\n",
      "    \"LABEL_47\": 47,\n",
      "    \"LABEL_48\": 48,\n",
      "    \"LABEL_49\": 49,\n",
      "    \"LABEL_5\": 5,\n",
      "    \"LABEL_50\": 50,\n",
      "    \"LABEL_51\": 51,\n",
      "    \"LABEL_52\": 52,\n",
      "    \"LABEL_53\": 53,\n",
      "    \"LABEL_54\": 54,\n",
      "    \"LABEL_55\": 55,\n",
      "    \"LABEL_56\": 56,\n",
      "    \"LABEL_57\": 57,\n",
      "    \"LABEL_58\": 58,\n",
      "    \"LABEL_59\": 59,\n",
      "    \"LABEL_6\": 6,\n",
      "    \"LABEL_60\": 60,\n",
      "    \"LABEL_61\": 61,\n",
      "    \"LABEL_62\": 62,\n",
      "    \"LABEL_63\": 63,\n",
      "    \"LABEL_64\": 64,\n",
      "    \"LABEL_65\": 65,\n",
      "    \"LABEL_66\": 66,\n",
      "    \"LABEL_67\": 67,\n",
      "    \"LABEL_68\": 68,\n",
      "    \"LABEL_69\": 69,\n",
      "    \"LABEL_7\": 7,\n",
      "    \"LABEL_70\": 70,\n",
      "    \"LABEL_71\": 71,\n",
      "    \"LABEL_8\": 8,\n",
      "    \"LABEL_9\": 9\n",
      "  },\n",
      "  \"max_position_embeddings\": 512,\n",
      "  \"model_type\": \"distilbert\",\n",
      "  \"n_heads\": 12,\n",
      "  \"n_layers\": 6,\n",
      "  \"pad_token_id\": 0,\n",
      "  \"qa_dropout\": 0.1,\n",
      "  \"seq_classif_dropout\": 0.2,\n",
      "  \"sinusoidal_pos_embds\": false,\n",
      "  \"tie_weights_\": true,\n",
      "  \"torch_dtype\": \"float32\",\n",
      "  \"transformers_version\": \"4.46.3\",\n",
      "  \"vocab_size\": 30522\n",
      "}\n",
      "\n",
      "loading configuration file ./snips_tok_clf/results\\config.json\n",
      "Model config DistilBertConfig {\n",
      "  \"_name_or_path\": \"./snips_tok_clf/results\",\n",
      "  \"activation\": \"gelu\",\n",
      "  \"architectures\": [\n",
      "    \"DistilBertForTokenClassification\"\n",
      "  ],\n",
      "  \"attention_dropout\": 0.1,\n",
      "  \"dim\": 768,\n",
      "  \"dropout\": 0.1,\n",
      "  \"hidden_dim\": 3072,\n",
      "  \"id2label\": {\n",
      "    \"0\": \"I-geographic_poi\",\n",
      "    \"1\": \"I-spatial_relation\",\n",
      "    \"2\": \"I-cuisine\",\n",
      "    \"3\": \"I-object_select\",\n",
      "    \"4\": \"B-object_type\",\n",
      "    \"5\": \"B-playlist_owner\",\n",
      "    \"6\": \"I-party_size_description\",\n",
      "    \"7\": \"I-movie_type\",\n",
      "    \"8\": \"I-playlist_owner\",\n",
      "    \"9\": \"I-playlist\",\n",
      "    \"10\": \"B-service\",\n",
      "    \"11\": \"I-state\",\n",
      "    \"12\": \"B-state\",\n",
      "    \"13\": \"B-served_dish\",\n",
      "    \"14\": \"B-track\",\n",
      "    \"15\": \"B-current_location\",\n",
      "    \"16\": \"B-location_name\",\n",
      "    \"17\": \"B-restaurant_type\",\n",
      "    \"18\": \"I-poi\",\n",
      "    \"19\": \"B-party_size_number\",\n",
      "    \"20\": \"B-timeRange\",\n",
      "    \"21\": \"I-served_dish\",\n",
      "    \"22\": \"B-genre\",\n",
      "    \"23\": \"I-facility\",\n",
      "    \"24\": \"B-artist\",\n",
      "    \"25\": \"I-album\",\n",
      "    \"26\": \"B-party_size_description\",\n",
      "    \"27\": \"I-sort\",\n",
      "    \"28\": \"B-condition_description\",\n",
      "    \"29\": \"B-sort\",\n",
      "    \"30\": \"I-object_part_of_series_type\",\n",
      "    \"31\": \"O\",\n",
      "    \"32\": \"B-rating_unit\",\n",
      "    \"33\": \"I-object_name\",\n",
      "    \"34\": \"B-music_item\",\n",
      "    \"35\": \"B-city\",\n",
      "    \"36\": \"B-object_select\",\n",
      "    \"37\": \"B-poi\",\n",
      "    \"38\": \"I-music_item\",\n",
      "    \"39\": \"B-playlist\",\n",
      "    \"40\": \"B-year\",\n",
      "    \"41\": \"B-restaurant_name\",\n",
      "    \"42\": \"I-location_name\",\n",
      "    \"43\": \"I-restaurant_type\",\n",
      "    \"44\": \"I-track\",\n",
      "    \"45\": \"I-object_location_type\",\n",
      "    \"46\": \"B-movie_type\",\n",
      "    \"47\": \"I-country\",\n",
      "    \"48\": \"B-best_rating\",\n",
      "    \"49\": \"B-album\",\n",
      "    \"50\": \"I-timeRange\",\n",
      "    \"51\": \"B-geographic_poi\",\n",
      "    \"52\": \"I-city\",\n",
      "    \"53\": \"B-rating_value\",\n",
      "    \"54\": \"I-artist\",\n",
      "    \"55\": \"I-movie_name\",\n",
      "    \"56\": \"I-object_type\",\n",
      "    \"57\": \"B-facility\",\n",
      "    \"58\": \"I-genre\",\n",
      "    \"59\": \"B-entity_name\",\n",
      "    \"60\": \"B-condition_temperature\",\n",
      "    \"61\": \"B-object_part_of_series_type\",\n",
      "    \"62\": \"B-cuisine\",\n",
      "    \"63\": \"I-current_location\",\n",
      "    \"64\": \"B-country\",\n",
      "    \"65\": \"I-entity_name\",\n",
      "    \"66\": \"I-restaurant_name\",\n",
      "    \"67\": \"B-object_name\",\n",
      "    \"68\": \"B-spatial_relation\",\n",
      "    \"69\": \"I-service\",\n",
      "    \"70\": \"B-movie_name\",\n",
      "    \"71\": \"B-object_location_type\"\n",
      "  },\n",
      "  \"initializer_range\": 0.02,\n",
      "  \"label2id\": {\n",
      "    \"LABEL_0\": 0,\n",
      "    \"LABEL_1\": 1,\n",
      "    \"LABEL_10\": 10,\n",
      "    \"LABEL_11\": 11,\n",
      "    \"LABEL_12\": 12,\n",
      "    \"LABEL_13\": 13,\n",
      "    \"LABEL_14\": 14,\n",
      "    \"LABEL_15\": 15,\n",
      "    \"LABEL_16\": 16,\n",
      "    \"LABEL_17\": 17,\n",
      "    \"LABEL_18\": 18,\n",
      "    \"LABEL_19\": 19,\n",
      "    \"LABEL_2\": 2,\n",
      "    \"LABEL_20\": 20,\n",
      "    \"LABEL_21\": 21,\n",
      "    \"LABEL_22\": 22,\n",
      "    \"LABEL_23\": 23,\n",
      "    \"LABEL_24\": 24,\n",
      "    \"LABEL_25\": 25,\n",
      "    \"LABEL_26\": 26,\n",
      "    \"LABEL_27\": 27,\n",
      "    \"LABEL_28\": 28,\n",
      "    \"LABEL_29\": 29,\n",
      "    \"LABEL_3\": 3,\n",
      "    \"LABEL_30\": 30,\n",
      "    \"LABEL_31\": 31,\n",
      "    \"LABEL_32\": 32,\n",
      "    \"LABEL_33\": 33,\n",
      "    \"LABEL_34\": 34,\n",
      "    \"LABEL_35\": 35,\n",
      "    \"LABEL_36\": 36,\n",
      "    \"LABEL_37\": 37,\n",
      "    \"LABEL_38\": 38,\n",
      "    \"LABEL_39\": 39,\n",
      "    \"LABEL_4\": 4,\n",
      "    \"LABEL_40\": 40,\n",
      "    \"LABEL_41\": 41,\n",
      "    \"LABEL_42\": 42,\n",
      "    \"LABEL_43\": 43,\n",
      "    \"LABEL_44\": 44,\n",
      "    \"LABEL_45\": 45,\n",
      "    \"LABEL_46\": 46,\n",
      "    \"LABEL_47\": 47,\n",
      "    \"LABEL_48\": 48,\n",
      "    \"LABEL_49\": 49,\n",
      "    \"LABEL_5\": 5,\n",
      "    \"LABEL_50\": 50,\n",
      "    \"LABEL_51\": 51,\n",
      "    \"LABEL_52\": 52,\n",
      "    \"LABEL_53\": 53,\n",
      "    \"LABEL_54\": 54,\n",
      "    \"LABEL_55\": 55,\n",
      "    \"LABEL_56\": 56,\n",
      "    \"LABEL_57\": 57,\n",
      "    \"LABEL_58\": 58,\n",
      "    \"LABEL_59\": 59,\n",
      "    \"LABEL_6\": 6,\n",
      "    \"LABEL_60\": 60,\n",
      "    \"LABEL_61\": 61,\n",
      "    \"LABEL_62\": 62,\n",
      "    \"LABEL_63\": 63,\n",
      "    \"LABEL_64\": 64,\n",
      "    \"LABEL_65\": 65,\n",
      "    \"LABEL_66\": 66,\n",
      "    \"LABEL_67\": 67,\n",
      "    \"LABEL_68\": 68,\n",
      "    \"LABEL_69\": 69,\n",
      "    \"LABEL_7\": 7,\n",
      "    \"LABEL_70\": 70,\n",
      "    \"LABEL_71\": 71,\n",
      "    \"LABEL_8\": 8,\n",
      "    \"LABEL_9\": 9\n",
      "  },\n",
      "  \"max_position_embeddings\": 512,\n",
      "  \"model_type\": \"distilbert\",\n",
      "  \"n_heads\": 12,\n",
      "  \"n_layers\": 6,\n",
      "  \"pad_token_id\": 0,\n",
      "  \"qa_dropout\": 0.1,\n",
      "  \"seq_classif_dropout\": 0.2,\n",
      "  \"sinusoidal_pos_embds\": false,\n",
      "  \"tie_weights_\": true,\n",
      "  \"torch_dtype\": \"float32\",\n",
      "  \"transformers_version\": \"4.46.3\",\n",
      "  \"vocab_size\": 30522\n",
      "}\n",
      "\n",
      "loading weights file ./snips_tok_clf/results\\model.safetensors\n",
      "All model checkpoint weights were used when initializing DistilBertForTokenClassification.\n",
      "\n"
     ]
    },
    {
     "name": "stderr",
     "output_type": "stream",
     "text": [
      "All the weights of DistilBertForTokenClassification were initialized from the model checkpoint at ./snips_tok_clf/results.\n",
      "If your task is similar to the task the model of the checkpoint was trained on, you can already use DistilBertForTokenClassification for predictions without further training.\n",
      "Hardware accelerator e.g. GPU is available in the environment, but no `device` argument is passed to the `Pipeline` object. Model will be on CPU.\n",
      "Disabling tokenizer parallelism, we're using DataLoader multithreading already\n"
     ]
    },
    {
     "data": {
      "text/plain": [
       "[{'entity': 'B-entity_name',\n",
       "  'score': 0.91015667,\n",
       "  'index': 3,\n",
       "  'word': 'coins',\n",
       "  'start': 8,\n",
       "  'end': 13},\n",
       " {'entity': 'I-entity_name',\n",
       "  'score': 0.841761,\n",
       "  'index': 4,\n",
       "  'word': \"'\",\n",
       "  'start': 13,\n",
       "  'end': 14},\n",
       " {'entity': 'I-entity_name',\n",
       "  'score': 0.7664101,\n",
       "  'index': 5,\n",
       "  'word': 'by',\n",
       "  'start': 15,\n",
       "  'end': 17},\n",
       " {'entity': 'I-entity_name',\n",
       "  'score': 0.7366723,\n",
       "  'index': 6,\n",
       "  'word': 'dispatch',\n",
       "  'start': 18,\n",
       "  'end': 26},\n",
       " {'entity': 'I-entity_name',\n",
       "  'score': 0.68693733,\n",
       "  'index': 7,\n",
       "  'word': 'to',\n",
       "  'start': 27,\n",
       "  'end': 29},\n",
       " {'entity': 'B-playlist_owner',\n",
       "  'score': 0.983563,\n",
       "  'index': 9,\n",
       "  'word': 'road',\n",
       "  'start': 33,\n",
       "  'end': 37},\n",
       " {'entity': 'B-playlist',\n",
       "  'score': 0.98780084,\n",
       "  'index': 10,\n",
       "  'word': 'trip',\n",
       "  'start': 38,\n",
       "  'end': 42},\n",
       " {'entity': 'I-playlist',\n",
       "  'score': 0.98700935,\n",
       "  'index': 11,\n",
       "  'word': 'play',\n",
       "  'start': 43,\n",
       "  'end': 47},\n",
       " {'entity': 'I-playlist',\n",
       "  'score': 0.97960496,\n",
       "  'index': 12,\n",
       "  'word': '##list',\n",
       "  'start': 47,\n",
       "  'end': 51}]"
      ]
     },
     "execution_count": 87,
     "metadata": {},
     "output_type": "execute_result"
    }
   ],
   "source": [
    "pipe = pipeline('token-classification', './snips_tok_clf/results', tokenizer = tokenizer)\n",
    "pipe(\"Add Two Coins' by Dispatch to my road trip playlist\")"
   ]
  },
  {
   "cell_type": "code",
   "execution_count": null,
   "id": "d77433b9",
   "metadata": {},
   "outputs": [],
   "source": []
  }
 ],
 "metadata": {
  "kernelspec": {
   "display_name": "Python 3 (ipykernel)",
   "language": "python",
   "name": "python3"
  },
  "language_info": {
   "codemirror_mode": {
    "name": "ipython",
    "version": 3
   },
   "file_extension": ".py",
   "mimetype": "text/x-python",
   "name": "python",
   "nbconvert_exporter": "python",
   "pygments_lexer": "ipython3",
   "version": "3.8.8"
  }
 },
 "nbformat": 4,
 "nbformat_minor": 5
}
