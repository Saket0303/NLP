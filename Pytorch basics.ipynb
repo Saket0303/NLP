{
 "cells": [
  {
   "cell_type": "code",
   "execution_count": 1,
   "id": "6207aa0d",
   "metadata": {},
   "outputs": [],
   "source": [
    "import torch"
   ]
  },
  {
   "cell_type": "code",
   "execution_count": 2,
   "id": "ba7538b1",
   "metadata": {},
   "outputs": [
    {
     "name": "stdout",
     "output_type": "stream",
     "text": [
      "Shape of tensor([0]) is torch.Size([1]) and dimension is 1\n"
     ]
    }
   ],
   "source": [
    "one_d_tensor = torch.LongTensor([0])\n",
    "print(f'Shape of {one_d_tensor} is {one_d_tensor.shape} and dimension is {one_d_tensor.dim()}')"
   ]
  },
  {
   "cell_type": "code",
   "execution_count": 3,
   "id": "42c727c2",
   "metadata": {},
   "outputs": [
    {
     "name": "stdout",
     "output_type": "stream",
     "text": [
      "Shape of tensor([0, 1, 2, 3, 4, 5]) is torch.Size([6]) and dimension is 1\n"
     ]
    }
   ],
   "source": [
    "one_d_tensor = torch.LongTensor([0,1,2,3,4,5])\n",
    "print(f'Shape of {one_d_tensor} is {one_d_tensor.shape} and dimension is {one_d_tensor.dim()}')"
   ]
  },
  {
   "cell_type": "code",
   "execution_count": 6,
   "id": "1537d53c",
   "metadata": {},
   "outputs": [
    {
     "name": "stdout",
     "output_type": "stream",
     "text": [
      "Shape of tensor([[0, 1, 2],\n",
      "        [3, 4, 5]]) is torch.Size([2, 3]) and dimension is 2\n"
     ]
    }
   ],
   "source": [
    "two_d_tensor = torch.LongTensor([[0,1,2],[3,4,5]])\n",
    "print(f'Shape of {two_d_tensor} is {two_d_tensor.shape} and dimension is {two_d_tensor.dim()}')"
   ]
  },
  {
   "cell_type": "code",
   "execution_count": 8,
   "id": "95c9a69f",
   "metadata": {},
   "outputs": [
    {
     "name": "stdout",
     "output_type": "stream",
     "text": [
      "Shape of tensor([0, 1, 2]) is torch.Size([3]) and dimension is 1\n",
      "Shape of tensor([[0, 1, 2]]) is torch.Size([1, 3]) and dimension is 2\n"
     ]
    }
   ],
   "source": [
    "one_d_tensor = torch.LongTensor([0,1,2])\n",
    "print(f'Shape of {one_d_tensor} is {one_d_tensor.shape} and dimension is {one_d_tensor.dim()}')\n",
    "\n",
    "two_d_tensor = one_d_tensor.unsqueeze(0)\n",
    "print(f'Shape of {two_d_tensor} is {two_d_tensor.shape} and dimension is {two_d_tensor.dim()}')"
   ]
  },
  {
   "cell_type": "code",
   "execution_count": null,
   "id": "d54a2ed9",
   "metadata": {},
   "outputs": [],
   "source": []
  }
 ],
 "metadata": {
  "kernelspec": {
   "display_name": "Python 3 (ipykernel)",
   "language": "python",
   "name": "python3"
  },
  "language_info": {
   "codemirror_mode": {
    "name": "ipython",
    "version": 3
   },
   "file_extension": ".py",
   "mimetype": "text/x-python",
   "name": "python",
   "nbconvert_exporter": "python",
   "pygments_lexer": "ipython3",
   "version": "3.8.8"
  }
 },
 "nbformat": 4,
 "nbformat_minor": 5
}
