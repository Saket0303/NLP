{
 "cells": [
  {
   "cell_type": "code",
   "execution_count": 1,
   "id": "01b8797c",
   "metadata": {},
   "outputs": [],
   "source": [
    "from transformers import Trainer, TrainingArguments, DistilBertForSequenceClassification, DistilBertTokenizerFast, \\\n",
    "    DataCollatorWithPadding, pipeline"
   ]
  },
  {
   "cell_type": "code",
   "execution_count": 2,
   "id": "aa9b49a0",
   "metadata": {},
   "outputs": [],
   "source": [
    "import datasets"
   ]
  },
  {
   "cell_type": "code",
   "execution_count": 3,
   "id": "7114f6b5",
   "metadata": {},
   "outputs": [
    {
     "data": {
      "text/plain": [
       "[b'BOS listen to westbam alumb allergic on google music EOS\\tO O O B-artist O B-album O B-service I-service PlayMusic\\r\\n',\n",
       " b'BOS add step to me to the 50 cl\\xc3\\xa1sicos playlist EOS\\tO O B-entity_name I-entity_name I-entity_name O O B-playlist I-playlist O AddToPlaylist\\r\\n',\n",
       " b'BOS i give this current textbook a rating value of 1 and a best rating of 6 EOS\\tO O O O B-object_select B-object_type O O O O B-rating_value O O O O O B-best_rating RateBook\\r\\n',\n",
       " b'BOS play the song little robin redbreast EOS\\tO O O B-music_item B-track I-track I-track PlayMusic\\r\\n',\n",
       " b'BOS please add iris dement to my playlist this is selena EOS\\tO O O B-artist I-artist O B-playlist_owner O B-playlist I-playlist I-playlist AddToPlaylist\\r\\n',\n",
       " b'BOS add slimm cutta calhoun to my this is prince playlist  EOS\\tO O B-artist I-artist I-artist O B-playlist_owner B-playlist I-playlist I-playlist O AddToPlaylist\\r\\n',\n",
       " b'BOS i want to listen to seventies music EOS\\tO O O O O O B-year O PlayMusic\\r\\n',\n",
       " b'BOS play a popular chant by brian epstein EOS\\tO O O B-sort B-music_item O B-artist I-artist PlayMusic\\r\\n',\n",
       " b'BOS find fish story EOS\\tO O B-movie_name I-movie_name SearchScreeningEvent\\r\\n',\n",
       " b'BOS book a spot for 3 in mt EOS\\tO O O O O B-party_size_number O B-state BookRestaurant\\r\\n',\n",
       " b'BOS i need a forecast for jetmore  massachusetts in 1 hour and 1 second from now EOS\\tO O O O O O B-city B-state O B-timeRange I-timeRange I-timeRange I-timeRange I-timeRange I-timeRange I-timeRange GetWeather\\r\\n',\n",
       " b'BOS rate this series a 5 EOS\\tO O B-object_select B-object_part_of_series_type O B-rating_value RateBook\\r\\n',\n",
       " b'BOS give me a list of movie times for films in the area EOS\\tO O O O O O B-object_type I-object_type O B-movie_type B-spatial_relation I-spatial_relation I-spatial_relation SearchScreeningEvent\\r\\n',\n",
       " b'BOS can you play me some eighties music by adele EOS\\tO O O O O O B-year O O B-artist PlayMusic\\r\\n',\n",
       " b'BOS please let me know the weather forcast of stanislaus national forest far in nine months EOS\\tO O O O O O O O O B-geographic_poi I-geographic_poi I-geographic_poi B-spatial_relation B-timeRange I-timeRange I-timeRange GetWeather\\r\\n',\n",
       " b'BOS book a restaurant for eight people in six years   EOS\\tO O O B-restaurant_type O B-party_size_number O B-timeRange I-timeRange I-timeRange BookRestaurant\\r\\n',\n",
       " b'BOS i need to book a restaurant in fork mountain  sc for valarie  mari and i EOS\\tO O O O O O B-restaurant_type O B-city I-city B-state O B-party_size_description I-party_size_description I-party_size_description I-party_size_description BookRestaurant\\r\\n',\n",
       " b'BOS add to playlist confidence boost here comes santa claus EOS\\tO O O O B-playlist I-playlist B-entity_name I-entity_name I-entity_name I-entity_name AddToPlaylist\\r\\n',\n",
       " b'BOS book a restaurant at sixteen o clock in sc EOS\\tO O O B-restaurant_type O B-timeRange I-timeRange I-timeRange O B-state BookRestaurant\\r\\n',\n",
       " b'BOS add another artist to the spotlight on country 2016 playlist  EOS\\tO O O B-music_item O O B-playlist I-playlist I-playlist I-playlist O AddToPlaylist\\r\\n']"
      ]
     },
     "execution_count": 3,
     "metadata": {},
     "output_type": "execute_result"
    }
   ],
   "source": [
    "snips_file = open('data/snips_train.txt', 'rb')\n",
    "snips_rows = snips_file.readlines()\n",
    "snips_rows[:20]"
   ]
  },
  {
   "cell_type": "code",
   "execution_count": 4,
   "id": "0b1f1eba",
   "metadata": {},
   "outputs": [],
   "source": [
    "utterances = []\n",
    "sequence_labels = []\n",
    "for snips_row in snips_rows:\n",
    "    a = snips_row.decode()[4:].split(' EOS\\t')\n",
    "    utterances.append(a[0])\n",
    "    sequence_labels.append(a[1].split()[-1])"
   ]
  },
  {
   "cell_type": "code",
   "execution_count": 5,
   "id": "02f43287",
   "metadata": {
    "scrolled": true
   },
   "outputs": [
    {
     "data": {
      "text/plain": [
       "['listen to westbam alumb allergic on google music',\n",
       " 'add step to me to the 50 clásicos playlist',\n",
       " 'i give this current textbook a rating value of 1 and a best rating of 6',\n",
       " 'play the song little robin redbreast',\n",
       " 'please add iris dement to my playlist this is selena']"
      ]
     },
     "execution_count": 5,
     "metadata": {},
     "output_type": "execute_result"
    }
   ],
   "source": [
    "utterances[:5]"
   ]
  },
  {
   "cell_type": "code",
   "execution_count": 6,
   "id": "3a136ac1",
   "metadata": {},
   "outputs": [
    {
     "data": {
      "text/plain": [
       "['PlayMusic', 'AddToPlaylist', 'RateBook', 'PlayMusic', 'AddToPlaylist']"
      ]
     },
     "execution_count": 6,
     "metadata": {},
     "output_type": "execute_result"
    }
   ],
   "source": [
    "sequence_labels[:5]"
   ]
  },
  {
   "cell_type": "code",
   "execution_count": 7,
   "id": "f5a51d39",
   "metadata": {},
   "outputs": [
    {
     "data": {
      "text/plain": [
       "list"
      ]
     },
     "execution_count": 7,
     "metadata": {},
     "output_type": "execute_result"
    }
   ],
   "source": [
    "type(sequence_labels)"
   ]
  },
  {
   "cell_type": "code",
   "execution_count": 8,
   "id": "e719bb51",
   "metadata": {},
   "outputs": [],
   "source": [
    "unique_sequence_labels = list(set(sequence_labels))"
   ]
  },
  {
   "cell_type": "code",
   "execution_count": 9,
   "id": "1867aaed",
   "metadata": {},
   "outputs": [
    {
     "data": {
      "text/plain": [
       "['AddToPlaylist',\n",
       " 'SearchScreeningEvent',\n",
       " 'PlayMusic',\n",
       " 'SearchCreativeWork',\n",
       " 'BookRestaurant',\n",
       " 'RateBook',\n",
       " 'GetWeather']"
      ]
     },
     "execution_count": 9,
     "metadata": {},
     "output_type": "execute_result"
    }
   ],
   "source": [
    "unique_sequence_labels"
   ]
  },
  {
   "cell_type": "code",
   "execution_count": 10,
   "id": "d2a509e7",
   "metadata": {},
   "outputs": [],
   "source": [
    "sequence_labels = [unique_sequence_labels.index(l) for l in sequence_labels]"
   ]
  },
  {
   "cell_type": "code",
   "execution_count": 11,
   "id": "5f13f987",
   "metadata": {},
   "outputs": [
    {
     "name": "stdout",
     "output_type": "stream",
     "text": [
      "listen to westbam alumb allergic on google music\n",
      "2\n",
      "PlayMusic\n"
     ]
    }
   ],
   "source": [
    "print(utterances[0])\n",
    "print(sequence_labels[0])\n",
    "print(unique_sequence_labels[sequence_labels[0]])"
   ]
  },
  {
   "cell_type": "code",
   "execution_count": 12,
   "id": "ab675c20",
   "metadata": {},
   "outputs": [],
   "source": [
    "snips_dataset = datasets.Dataset.from_dict(\n",
    "    dict(\n",
    "        utterance = utterances,\n",
    "        label = sequence_labels\n",
    "    )\n",
    ")\n",
    "\n",
    "snips_dataset = snips_dataset.train_test_split(test_size = 0.2)"
   ]
  },
  {
   "cell_type": "code",
   "execution_count": 13,
   "id": "34eb0c90",
   "metadata": {},
   "outputs": [
    {
     "data": {
      "text/plain": [
       "{'utterance': 'add the chamillionaire track to lina s wedding classics playlist',\n",
       " 'label': 0}"
      ]
     },
     "execution_count": 13,
     "metadata": {},
     "output_type": "execute_result"
    }
   ],
   "source": [
    "snips_dataset['train'][0]"
   ]
  },
  {
   "cell_type": "code",
   "execution_count": 14,
   "id": "d5e71523",
   "metadata": {},
   "outputs": [],
   "source": [
    "tokenizer = DistilBertTokenizerFast.from_pretrained('distilbert-base-uncased')"
   ]
  },
  {
   "cell_type": "code",
   "execution_count": 15,
   "id": "667e02af",
   "metadata": {},
   "outputs": [],
   "source": [
    "def preprocess_function(examples):\n",
    "    return tokenizer(examples['utterance'], truncation = True)"
   ]
  },
  {
   "cell_type": "code",
   "execution_count": 16,
   "id": "569b007c",
   "metadata": {},
   "outputs": [
    {
     "data": {
      "application/vnd.jupyter.widget-view+json": {
       "model_id": "85d96ad58fdf47e79728c9a7646dff45",
       "version_major": 2,
       "version_minor": 0
      },
      "text/plain": [
       "Map:   0%|          | 0/10467 [00:00<?, ? examples/s]"
      ]
     },
     "metadata": {},
     "output_type": "display_data"
    },
    {
     "data": {
      "application/vnd.jupyter.widget-view+json": {
       "model_id": "3294e3f460334c5398b18a7630ebd11e",
       "version_major": 2,
       "version_minor": 0
      },
      "text/plain": [
       "Map:   0%|          | 0/2617 [00:00<?, ? examples/s]"
      ]
     },
     "metadata": {},
     "output_type": "display_data"
    }
   ],
   "source": [
    "seq_clf_tokenized_snips = snips_dataset.map(preprocess_function, batched = True)"
   ]
  },
  {
   "cell_type": "code",
   "execution_count": 17,
   "id": "55dc201d",
   "metadata": {},
   "outputs": [
    {
     "data": {
      "text/plain": [
       "{'utterance': 'add the chamillionaire track to lina s wedding classics playlist',\n",
       " 'label': 0,\n",
       " 'input_ids': [101,\n",
       "  5587,\n",
       "  1996,\n",
       "  15775,\n",
       "  19912,\n",
       "  3258,\n",
       "  14737,\n",
       "  2650,\n",
       "  2000,\n",
       "  27022,\n",
       "  1055,\n",
       "  5030,\n",
       "  10002,\n",
       "  2377,\n",
       "  9863,\n",
       "  102],\n",
       " 'attention_mask': [1, 1, 1, 1, 1, 1, 1, 1, 1, 1, 1, 1, 1, 1, 1, 1]}"
      ]
     },
     "execution_count": 17,
     "metadata": {},
     "output_type": "execute_result"
    }
   ],
   "source": [
    "seq_clf_tokenized_snips['train'][0]"
   ]
  },
  {
   "cell_type": "code",
   "execution_count": 18,
   "id": "40056b11",
   "metadata": {},
   "outputs": [],
   "source": [
    "data_collator = DataCollatorWithPadding(tokenizer=tokenizer)"
   ]
  },
  {
   "cell_type": "code",
   "execution_count": 19,
   "id": "62b84b3c",
   "metadata": {},
   "outputs": [
    {
     "name": "stderr",
     "output_type": "stream",
     "text": [
      "Some weights of DistilBertForSequenceClassification were not initialized from the model checkpoint at distilbert-base-uncased and are newly initialized: ['classifier.bias', 'classifier.weight', 'pre_classifier.bias', 'pre_classifier.weight']\n",
      "You should probably TRAIN this model on a down-stream task to be able to use it for predictions and inference.\n"
     ]
    }
   ],
   "source": [
    "sequence_clf_model = DistilBertForSequenceClassification.from_pretrained(\n",
    "    'distilbert-base-uncased',\n",
    "    num_labels = len(unique_sequence_labels)\n",
    ")\n",
    "sequence_clf_model.config.id2label = {i: l for i, l in enumerate(unique_sequence_labels)}"
   ]
  },
  {
   "cell_type": "code",
   "execution_count": 20,
   "id": "b358e712",
   "metadata": {},
   "outputs": [
    {
     "data": {
      "text/plain": [
       "'AddToPlaylist'"
      ]
     },
     "execution_count": 20,
     "metadata": {},
     "output_type": "execute_result"
    }
   ],
   "source": [
    "sequence_clf_model.config.id2label[0]"
   ]
  },
  {
   "cell_type": "code",
   "execution_count": 21,
   "id": "0f2dc456",
   "metadata": {},
   "outputs": [
    {
     "name": "stdout",
     "output_type": "stream",
     "text": [
      "Requirement already satisfied: evaluate in c:\\users\\saket\\anaconda3\\lib\\site-packages (0.4.3)\n",
      "Requirement already satisfied: dill in c:\\users\\saket\\anaconda3\\lib\\site-packages (from evaluate) (0.3.8)\n",
      "Requirement already satisfied: xxhash in c:\\users\\saket\\anaconda3\\lib\\site-packages (from evaluate) (3.5.0)\n",
      "Requirement already satisfied: multiprocess in c:\\users\\saket\\anaconda3\\lib\\site-packages (from evaluate) (0.70.16)\n",
      "Requirement already satisfied: fsspec[http]>=2021.05.0 in c:\\users\\saket\\anaconda3\\lib\\site-packages (from evaluate) (2024.9.0)\n",
      "Requirement already satisfied: pandas in c:\\users\\saket\\anaconda3\\lib\\site-packages (from evaluate) (1.3.3)\n",
      "Requirement already satisfied: tqdm>=4.62.1 in c:\\users\\saket\\anaconda3\\lib\\site-packages (from evaluate) (4.67.1)\n",
      "Requirement already satisfied: numpy>=1.17 in c:\\users\\saket\\anaconda3\\lib\\site-packages (from evaluate) (1.22.0)\n",
      "Requirement already satisfied: huggingface-hub>=0.7.0 in c:\\users\\saket\\anaconda3\\lib\\site-packages (from evaluate) (0.29.1)\n",
      "Requirement already satisfied: requests>=2.19.0 in c:\\users\\saket\\anaconda3\\lib\\site-packages (from evaluate) (2.32.3)\n",
      "Requirement already satisfied: datasets>=2.0.0 in c:\\users\\saket\\anaconda3\\lib\\site-packages (from evaluate) (3.1.0)\n",
      "Requirement already satisfied: packaging in c:\\users\\saket\\anaconda3\\lib\\site-packages (from evaluate) (21.3)\n",
      "Requirement already satisfied: filelock in c:\\users\\saket\\anaconda3\\lib\\site-packages (from datasets>=2.0.0->evaluate) (3.13.1)\n",
      "Requirement already satisfied: pyyaml>=5.1 in c:\\users\\saket\\anaconda3\\lib\\site-packages (from datasets>=2.0.0->evaluate) (5.4.1)\n",
      "Requirement already satisfied: aiohttp in c:\\users\\saket\\anaconda3\\lib\\site-packages (from datasets>=2.0.0->evaluate) (3.10.11)\n",
      "Requirement already satisfied: pyarrow>=15.0.0 in c:\\users\\saket\\anaconda3\\lib\\site-packages (from datasets>=2.0.0->evaluate) (17.0.0)\n",
      "Requirement already satisfied: multidict<7.0,>=4.5 in c:\\users\\saket\\anaconda3\\lib\\site-packages (from aiohttp->datasets>=2.0.0->evaluate) (6.1.0)\n",
      "Requirement already satisfied: async-timeout<6.0,>=4.0 in c:\\users\\saket\\anaconda3\\lib\\site-packages (from aiohttp->datasets>=2.0.0->evaluate) (4.0.2)\n",
      "Requirement already satisfied: frozenlist>=1.1.1 in c:\\users\\saket\\anaconda3\\lib\\site-packages (from aiohttp->datasets>=2.0.0->evaluate) (1.5.0)\n",
      "Requirement already satisfied: yarl<2.0,>=1.12.0 in c:\\users\\saket\\anaconda3\\lib\\site-packages (from aiohttp->datasets>=2.0.0->evaluate) (1.15.2)\n",
      "Requirement already satisfied: attrs>=17.3.0 in c:\\users\\saket\\anaconda3\\lib\\site-packages (from aiohttp->datasets>=2.0.0->evaluate) (21.2.0)\n",
      "Requirement already satisfied: aiohappyeyeballs>=2.3.0 in c:\\users\\saket\\anaconda3\\lib\\site-packages (from aiohttp->datasets>=2.0.0->evaluate) (2.4.4)\n",
      "Requirement already satisfied: aiosignal>=1.1.2 in c:\\users\\saket\\anaconda3\\lib\\site-packages (from aiohttp->datasets>=2.0.0->evaluate) (1.3.1)\n",
      "Requirement already satisfied: typing-extensions>=3.7.4.3 in c:\\users\\saket\\anaconda3\\lib\\site-packages (from huggingface-hub>=0.7.0->evaluate) (4.4.0)\n",
      "Requirement already satisfied: pyparsing!=3.0.5,>=2.0.2 in c:\\users\\saket\\anaconda3\\lib\\site-packages (from packaging->evaluate) (2.4.7)\n",
      "Requirement already satisfied: idna<4,>=2.5 in c:\\users\\saket\\anaconda3\\lib\\site-packages (from requests>=2.19.0->evaluate) (3.2)\n",
      "Requirement already satisfied: urllib3<3,>=1.21.1 in c:\\users\\saket\\anaconda3\\lib\\site-packages (from requests>=2.19.0->evaluate) (1.26.13)\n",
      "Requirement already satisfied: certifi>=2017.4.17 in c:\\users\\saket\\anaconda3\\lib\\site-packages (from requests>=2.19.0->evaluate) (2022.12.7)\n",
      "Requirement already satisfied: charset-normalizer<4,>=2 in c:\\users\\saket\\anaconda3\\lib\\site-packages (from requests>=2.19.0->evaluate) (2.0.4)\n",
      "Requirement already satisfied: colorama in c:\\users\\saket\\anaconda3\\lib\\site-packages (from tqdm>=4.62.1->evaluate) (0.4.4)\n",
      "Requirement already satisfied: propcache>=0.2.0 in c:\\users\\saket\\anaconda3\\lib\\site-packages (from yarl<2.0,>=1.12.0->aiohttp->datasets>=2.0.0->evaluate) (0.2.0)\n",
      "Requirement already satisfied: pytz>=2017.3 in c:\\users\\saket\\anaconda3\\lib\\site-packages (from pandas->evaluate) (2019.3)\n",
      "Requirement already satisfied: python-dateutil>=2.7.3 in c:\\users\\saket\\anaconda3\\lib\\site-packages (from pandas->evaluate) (2.8.1)\n",
      "Requirement already satisfied: six>=1.5 in c:\\users\\saket\\anaconda3\\lib\\site-packages (from python-dateutil>=2.7.3->pandas->evaluate) (1.16.0)\n"
     ]
    }
   ],
   "source": [
    "!pip install evaluate\n",
    "import evaluate"
   ]
  },
  {
   "cell_type": "code",
   "execution_count": 22,
   "id": "14711bb4",
   "metadata": {},
   "outputs": [],
   "source": [
    "metric = evaluate.load(\"accuracy\")"
   ]
  },
  {
   "cell_type": "code",
   "execution_count": 23,
   "id": "dc91b343",
   "metadata": {},
   "outputs": [],
   "source": [
    "import numpy as np\n",
    "def compute_metrics(eval_pred):\n",
    "    logits, labels = eval_pred\n",
    "    predictions = np.argmax(logits, axis = -1)\n",
    "    return metric.compute(predictions = predictions, references = labels)"
   ]
  },
  {
   "cell_type": "code",
   "execution_count": 24,
   "id": "c9ec25eb",
   "metadata": {},
   "outputs": [
    {
     "name": "stdout",
     "output_type": "stream",
     "text": [
      "Requirement already satisfied: transformers[torch] in c:\\users\\saket\\anaconda3\\lib\\site-packages (4.46.3)\n",
      "Requirement already satisfied: tokenizers<0.21,>=0.20 in c:\\users\\saket\\anaconda3\\lib\\site-packages (from transformers[torch]) (0.20.3)\n",
      "Requirement already satisfied: regex!=2019.12.17 in c:\\users\\saket\\anaconda3\\lib\\site-packages (from transformers[torch]) (2021.8.3)\n",
      "Requirement already satisfied: packaging>=20.0 in c:\\users\\saket\\anaconda3\\lib\\site-packages (from transformers[torch]) (21.3)\n",
      "Requirement already satisfied: numpy>=1.17 in c:\\users\\saket\\anaconda3\\lib\\site-packages (from transformers[torch]) (1.22.0)\n",
      "Requirement already satisfied: requests in c:\\users\\saket\\anaconda3\\lib\\site-packages (from transformers[torch]) (2.32.3)\n",
      "Requirement already satisfied: huggingface-hub<1.0,>=0.23.2 in c:\\users\\saket\\anaconda3\\lib\\site-packages (from transformers[torch]) (0.29.1)\n",
      "Requirement already satisfied: safetensors>=0.4.1 in c:\\users\\saket\\anaconda3\\lib\\site-packages (from transformers[torch]) (0.5.2)\n",
      "Requirement already satisfied: filelock in c:\\users\\saket\\anaconda3\\lib\\site-packages (from transformers[torch]) (3.13.1)\n",
      "Requirement already satisfied: pyyaml>=5.1 in c:\\users\\saket\\anaconda3\\lib\\site-packages (from transformers[torch]) (5.4.1)\n",
      "Requirement already satisfied: tqdm>=4.27 in c:\\users\\saket\\anaconda3\\lib\\site-packages (from transformers[torch]) (4.67.1)\n",
      "Requirement already satisfied: accelerate>=0.26.0 in c:\\users\\saket\\anaconda3\\lib\\site-packages (from transformers[torch]) (1.0.1)\n",
      "Requirement already satisfied: torch in c:\\users\\saket\\anaconda3\\lib\\site-packages (from transformers[torch]) (1.10.2)\n",
      "Requirement already satisfied: psutil in c:\\users\\saket\\anaconda3\\lib\\site-packages (from accelerate>=0.26.0->transformers[torch]) (5.8.0)\n",
      "Requirement already satisfied: typing-extensions>=3.7.4.3 in c:\\users\\saket\\anaconda3\\lib\\site-packages (from huggingface-hub<1.0,>=0.23.2->transformers[torch]) (4.4.0)\n",
      "Requirement already satisfied: fsspec>=2023.5.0 in c:\\users\\saket\\anaconda3\\lib\\site-packages (from huggingface-hub<1.0,>=0.23.2->transformers[torch]) (2024.9.0)\n",
      "Requirement already satisfied: pyparsing!=3.0.5,>=2.0.2 in c:\\users\\saket\\anaconda3\\lib\\site-packages (from packaging>=20.0->transformers[torch]) (2.4.7)\n",
      "Requirement already satisfied: colorama in c:\\users\\saket\\anaconda3\\lib\\site-packages (from tqdm>=4.27->transformers[torch]) (0.4.4)\n",
      "Requirement already satisfied: idna<4,>=2.5 in c:\\users\\saket\\anaconda3\\lib\\site-packages (from requests->transformers[torch]) (3.2)\n",
      "Requirement already satisfied: urllib3<3,>=1.21.1 in c:\\users\\saket\\anaconda3\\lib\\site-packages (from requests->transformers[torch]) (1.26.13)\n",
      "Requirement already satisfied: certifi>=2017.4.17 in c:\\users\\saket\\anaconda3\\lib\\site-packages (from requests->transformers[torch]) (2022.12.7)\n",
      "Requirement already satisfied: charset-normalizer<4,>=2 in c:\\users\\saket\\anaconda3\\lib\\site-packages (from requests->transformers[torch]) (2.0.4)\n",
      "Note: you may need to restart the kernel to use updated packages.\n"
     ]
    }
   ],
   "source": [
    "pip install transformers[torch]"
   ]
  },
  {
   "cell_type": "code",
   "execution_count": 25,
   "id": "a171d711",
   "metadata": {},
   "outputs": [],
   "source": [
    "epochs = 2\n",
    "\n",
    "training_args = TrainingArguments(\n",
    "    output_dir = \"./snips_clf/results\",\n",
    "    num_train_epochs = epochs,\n",
    "    per_device_train_batch_size = 32,\n",
    "    per_device_eval_batch_size = 32,\n",
    "    load_best_model_at_end = True,\n",
    "    \n",
    "    # some deep learning params that the trainer is able to take in\n",
    "    \n",
    "    warmup_steps = len(seq_clf_tokenized_snips['train']) // 5, # no. of warmup steps for learning rate scheduler\n",
    "    weight_decay = 0.05,\n",
    "    \n",
    "    logging_steps = 1,\n",
    "    log_level = 'info',\n",
    "    eval_strategy = 'epoch',\n",
    "    save_strategy = 'epoch'\n",
    ")\n",
    "\n",
    "\n",
    "trainer = Trainer(\n",
    "    model = sequence_clf_model,\n",
    "    args = training_args,\n",
    "    train_dataset = seq_clf_tokenized_snips['train'],\n",
    "    eval_dataset = seq_clf_tokenized_snips['test'],\n",
    "    compute_metrics = compute_metrics,\n",
    "    data_collator = data_collator\n",
    ")"
   ]
  },
  {
   "cell_type": "code",
   "execution_count": 26,
   "id": "31458f4f",
   "metadata": {},
   "outputs": [
    {
     "name": "stderr",
     "output_type": "stream",
     "text": [
      "The following columns in the evaluation set don't have a corresponding argument in `DistilBertForSequenceClassification.forward` and have been ignored: utterance. If utterance are not expected by `DistilBertForSequenceClassification.forward`,  you can safely ignore this message.\n",
      "\n",
      "***** Running Evaluation *****\n",
      "  Num examples = 2617\n",
      "  Batch size = 32\n"
     ]
    },
    {
     "data": {
      "text/html": [
       "\n",
       "    <div>\n",
       "      \n",
       "      <progress value='164' max='82' style='width:300px; height:20px; vertical-align: middle;'></progress>\n",
       "      [82/82 16:16]\n",
       "    </div>\n",
       "    "
      ],
      "text/plain": [
       "<IPython.core.display.HTML object>"
      ]
     },
     "metadata": {},
     "output_type": "display_data"
    },
    {
     "data": {
      "text/plain": [
       "{'eval_loss': 1.9480856657028198,\n",
       " 'eval_model_preparation_time': 0.0071,\n",
       " 'eval_accuracy': 0.12533435231180742,\n",
       " 'eval_runtime': 30.3565,\n",
       " 'eval_samples_per_second': 86.209,\n",
       " 'eval_steps_per_second': 2.701}"
      ]
     },
     "execution_count": 26,
     "metadata": {},
     "output_type": "execute_result"
    }
   ],
   "source": [
    "trainer.evaluate()"
   ]
  },
  {
   "cell_type": "code",
   "execution_count": 27,
   "id": "0d8d13fe",
   "metadata": {},
   "outputs": [
    {
     "name": "stderr",
     "output_type": "stream",
     "text": [
      "The following columns in the training set don't have a corresponding argument in `DistilBertForSequenceClassification.forward` and have been ignored: utterance. If utterance are not expected by `DistilBertForSequenceClassification.forward`,  you can safely ignore this message.\n",
      "***** Running training *****\n",
      "  Num examples = 10,467\n",
      "  Num Epochs = 2\n",
      "  Instantaneous batch size per device = 32\n",
      "  Total train batch size (w. parallel, distributed & accumulation) = 32\n",
      "  Gradient Accumulation steps = 1\n",
      "  Total optimization steps = 656\n",
      "  Number of trainable parameters = 66,958,855\n"
     ]
    },
    {
     "data": {
      "text/html": [
       "\n",
       "    <div>\n",
       "      \n",
       "      <progress value='656' max='656' style='width:300px; height:20px; vertical-align: middle;'></progress>\n",
       "      [656/656 32:34, Epoch 2/2]\n",
       "    </div>\n",
       "    <table border=\"1\" class=\"dataframe\">\n",
       "  <thead>\n",
       " <tr style=\"text-align: left;\">\n",
       "      <th>Epoch</th>\n",
       "      <th>Training Loss</th>\n",
       "      <th>Validation Loss</th>\n",
       "      <th>Model Preparation Time</th>\n",
       "      <th>Accuracy</th>\n",
       "    </tr>\n",
       "  </thead>\n",
       "  <tbody>\n",
       "    <tr>\n",
       "      <td>1</td>\n",
       "      <td>0.179800</td>\n",
       "      <td>0.224038</td>\n",
       "      <td>0.007100</td>\n",
       "      <td>0.978984</td>\n",
       "    </tr>\n",
       "    <tr>\n",
       "      <td>2</td>\n",
       "      <td>0.016300</td>\n",
       "      <td>0.048174</td>\n",
       "      <td>0.007100</td>\n",
       "      <td>0.988536</td>\n",
       "    </tr>\n",
       "  </tbody>\n",
       "</table><p>"
      ],
      "text/plain": [
       "<IPython.core.display.HTML object>"
      ]
     },
     "metadata": {},
     "output_type": "display_data"
    },
    {
     "name": "stderr",
     "output_type": "stream",
     "text": [
      "The following columns in the evaluation set don't have a corresponding argument in `DistilBertForSequenceClassification.forward` and have been ignored: utterance. If utterance are not expected by `DistilBertForSequenceClassification.forward`,  you can safely ignore this message.\n",
      "\n",
      "***** Running Evaluation *****\n",
      "  Num examples = 2617\n",
      "  Batch size = 32\n",
      "Saving model checkpoint to ./snips_clf/results\\checkpoint-328\n",
      "Configuration saved in ./snips_clf/results\\checkpoint-328\\config.json\n",
      "Model weights saved in ./snips_clf/results\\checkpoint-328\\model.safetensors\n",
      "Saving model checkpoint to ./snips_clf/results\\checkpoint-656\n",
      "Configuration saved in ./snips_clf/results\\checkpoint-656\\config.json\n",
      "Model weights saved in ./snips_clf/results\\checkpoint-656\\model.safetensors\n",
      "The following columns in the evaluation set don't have a corresponding argument in `DistilBertForSequenceClassification.forward` and have been ignored: utterance. If utterance are not expected by `DistilBertForSequenceClassification.forward`,  you can safely ignore this message.\n",
      "\n",
      "***** Running Evaluation *****\n",
      "  Num examples = 2617\n",
      "  Batch size = 32\n",
      "Saving model checkpoint to ./snips_clf/results\\checkpoint-656\n",
      "Configuration saved in ./snips_clf/results\\checkpoint-656\\config.json\n",
      "Model weights saved in ./snips_clf/results\\checkpoint-656\\model.safetensors\n",
      "\n",
      "\n",
      "Training completed. Do not forget to share your model on huggingface.co/models =)\n",
      "\n",
      "\n",
      "Loading best model from ./snips_clf/results\\checkpoint-656 (score: 0.04817378148436546).\n"
     ]
    },
    {
     "data": {
      "text/plain": [
       "TrainOutput(global_step=656, training_loss=0.7247861083596945, metrics={'train_runtime': 1955.0215, 'train_samples_per_second': 10.708, 'train_steps_per_second': 0.336, 'total_flos': 117122748262158.0, 'train_loss': 0.7247861083596945, 'epoch': 2.0})"
      ]
     },
     "execution_count": 27,
     "metadata": {},
     "output_type": "execute_result"
    }
   ],
   "source": [
    "trainer.train()"
   ]
  },
  {
   "cell_type": "code",
   "execution_count": 28,
   "id": "c29a5835",
   "metadata": {},
   "outputs": [
    {
     "name": "stderr",
     "output_type": "stream",
     "text": [
      "The following columns in the evaluation set don't have a corresponding argument in `DistilBertForSequenceClassification.forward` and have been ignored: utterance. If utterance are not expected by `DistilBertForSequenceClassification.forward`,  you can safely ignore this message.\n",
      "\n",
      "***** Running Evaluation *****\n",
      "  Num examples = 2617\n",
      "  Batch size = 32\n"
     ]
    },
    {
     "data": {
      "text/html": [
       "\n",
       "    <div>\n",
       "      \n",
       "      <progress value='82' max='82' style='width:300px; height:20px; vertical-align: middle;'></progress>\n",
       "      [82/82 01:13]\n",
       "    </div>\n",
       "    "
      ],
      "text/plain": [
       "<IPython.core.display.HTML object>"
      ]
     },
     "metadata": {},
     "output_type": "display_data"
    },
    {
     "data": {
      "text/plain": [
       "{'eval_loss': 0.04817378148436546,\n",
       " 'eval_model_preparation_time': 0.0071,\n",
       " 'eval_accuracy': 0.988536492166603,\n",
       " 'eval_runtime': 74.4715,\n",
       " 'eval_samples_per_second': 35.141,\n",
       " 'eval_steps_per_second': 1.101,\n",
       " 'epoch': 2.0}"
      ]
     },
     "execution_count": 28,
     "metadata": {},
     "output_type": "execute_result"
    }
   ],
   "source": [
    "trainer.evaluate()"
   ]
  },
  {
   "cell_type": "code",
   "execution_count": 29,
   "id": "6f3ede9a",
   "metadata": {},
   "outputs": [
    {
     "name": "stderr",
     "output_type": "stream",
     "text": [
      "Hardware accelerator e.g. GPU is available in the environment, but no `device` argument is passed to the `Pipeline` object. Model will be on CPU.\n"
     ]
    },
    {
     "data": {
      "text/plain": [
       "[{'label': 'AddToPlaylist', 'score': 0.9908778071403503}]"
      ]
     },
     "execution_count": 29,
     "metadata": {},
     "output_type": "execute_result"
    }
   ],
   "source": [
    "pipe = pipeline('text-classification', sequence_clf_model, tokenizer=tokenizer)\n",
    "pipe(\"Add Two Coins' by Dispatch to my road trip playlist\")"
   ]
  },
  {
   "cell_type": "code",
   "execution_count": 30,
   "id": "41cbfe46",
   "metadata": {},
   "outputs": [
    {
     "name": "stderr",
     "output_type": "stream",
     "text": [
      "Saving model checkpoint to ./snips_clf/results\n",
      "Configuration saved in ./snips_clf/results\\config.json\n",
      "Model weights saved in ./snips_clf/results\\model.safetensors\n"
     ]
    }
   ],
   "source": [
    "trainer.save_model()"
   ]
  },
  {
   "cell_type": "code",
   "execution_count": 31,
   "id": "4ff153cf",
   "metadata": {},
   "outputs": [
    {
     "name": "stderr",
     "output_type": "stream",
     "text": [
      "loading configuration file ./snips_clf/results\\config.json\n",
      "Model config DistilBertConfig {\n",
      "  \"_name_or_path\": \"./snips_clf/results\",\n",
      "  \"activation\": \"gelu\",\n",
      "  \"architectures\": [\n",
      "    \"DistilBertForSequenceClassification\"\n",
      "  ],\n",
      "  \"attention_dropout\": 0.1,\n",
      "  \"dim\": 768,\n",
      "  \"dropout\": 0.1,\n",
      "  \"hidden_dim\": 3072,\n",
      "  \"id2label\": {\n",
      "    \"0\": \"AddToPlaylist\",\n",
      "    \"1\": \"SearchScreeningEvent\",\n",
      "    \"2\": \"PlayMusic\",\n",
      "    \"3\": \"SearchCreativeWork\",\n",
      "    \"4\": \"BookRestaurant\",\n",
      "    \"5\": \"RateBook\",\n",
      "    \"6\": \"GetWeather\"\n",
      "  },\n",
      "  \"initializer_range\": 0.02,\n",
      "  \"label2id\": {\n",
      "    \"LABEL_0\": 0,\n",
      "    \"LABEL_1\": 1,\n",
      "    \"LABEL_2\": 2,\n",
      "    \"LABEL_3\": 3,\n",
      "    \"LABEL_4\": 4,\n",
      "    \"LABEL_5\": 5,\n",
      "    \"LABEL_6\": 6\n",
      "  },\n",
      "  \"max_position_embeddings\": 512,\n",
      "  \"model_type\": \"distilbert\",\n",
      "  \"n_heads\": 12,\n",
      "  \"n_layers\": 6,\n",
      "  \"pad_token_id\": 0,\n",
      "  \"problem_type\": \"single_label_classification\",\n",
      "  \"qa_dropout\": 0.1,\n",
      "  \"seq_classif_dropout\": 0.2,\n",
      "  \"sinusoidal_pos_embds\": false,\n",
      "  \"tie_weights_\": true,\n",
      "  \"torch_dtype\": \"float32\",\n",
      "  \"transformers_version\": \"4.46.3\",\n",
      "  \"vocab_size\": 30522\n",
      "}\n",
      "\n",
      "loading configuration file ./snips_clf/results\\config.json\n",
      "Model config DistilBertConfig {\n",
      "  \"_name_or_path\": \"./snips_clf/results\",\n",
      "  \"activation\": \"gelu\",\n",
      "  \"architectures\": [\n",
      "    \"DistilBertForSequenceClassification\"\n",
      "  ],\n",
      "  \"attention_dropout\": 0.1,\n",
      "  \"dim\": 768,\n",
      "  \"dropout\": 0.1,\n",
      "  \"hidden_dim\": 3072,\n",
      "  \"id2label\": {\n",
      "    \"0\": \"AddToPlaylist\",\n",
      "    \"1\": \"SearchScreeningEvent\",\n",
      "    \"2\": \"PlayMusic\",\n",
      "    \"3\": \"SearchCreativeWork\",\n",
      "    \"4\": \"BookRestaurant\",\n",
      "    \"5\": \"RateBook\",\n",
      "    \"6\": \"GetWeather\"\n",
      "  },\n",
      "  \"initializer_range\": 0.02,\n",
      "  \"label2id\": {\n",
      "    \"LABEL_0\": 0,\n",
      "    \"LABEL_1\": 1,\n",
      "    \"LABEL_2\": 2,\n",
      "    \"LABEL_3\": 3,\n",
      "    \"LABEL_4\": 4,\n",
      "    \"LABEL_5\": 5,\n",
      "    \"LABEL_6\": 6\n",
      "  },\n",
      "  \"max_position_embeddings\": 512,\n",
      "  \"model_type\": \"distilbert\",\n",
      "  \"n_heads\": 12,\n",
      "  \"n_layers\": 6,\n",
      "  \"pad_token_id\": 0,\n",
      "  \"problem_type\": \"single_label_classification\",\n",
      "  \"qa_dropout\": 0.1,\n",
      "  \"seq_classif_dropout\": 0.2,\n",
      "  \"sinusoidal_pos_embds\": false,\n",
      "  \"tie_weights_\": true,\n",
      "  \"torch_dtype\": \"float32\",\n",
      "  \"transformers_version\": \"4.46.3\",\n",
      "  \"vocab_size\": 30522\n",
      "}\n",
      "\n",
      "loading weights file ./snips_clf/results\\model.safetensors\n",
      "All model checkpoint weights were used when initializing DistilBertForSequenceClassification.\n",
      "\n",
      "All the weights of DistilBertForSequenceClassification were initialized from the model checkpoint at ./snips_clf/results.\n",
      "If your task is similar to the task the model of the checkpoint was trained on, you can already use DistilBertForSequenceClassification for predictions without further training.\n",
      "Hardware accelerator e.g. GPU is available in the environment, but no `device` argument is passed to the `Pipeline` object. Model will be on CPU.\n"
     ]
    },
    {
     "data": {
      "text/plain": [
       "[{'label': 'AddToPlaylist', 'score': 0.9908778071403503}]"
      ]
     },
     "execution_count": 31,
     "metadata": {},
     "output_type": "execute_result"
    }
   ],
   "source": [
    "pipe = pipeline('text-classification', './snips_clf/results', tokenizer = tokenizer)\n",
    "pipe(\"Add Two Coins' by Dispatch to my road trip playlist\")"
   ]
  },
  {
   "cell_type": "code",
   "execution_count": 32,
   "id": "8a82e842",
   "metadata": {},
   "outputs": [
    {
     "name": "stderr",
     "output_type": "stream",
     "text": [
      "loading configuration file config.json from cache at C:\\Users\\Saket\\.cache\\huggingface\\hub\\models--distilbert-base-uncased\\snapshots\\12040accade4e8a0f71eabdb258fecc2e7e948be\\config.json\n",
      "Model config DistilBertConfig {\n",
      "  \"activation\": \"gelu\",\n",
      "  \"architectures\": [\n",
      "    \"DistilBertForMaskedLM\"\n",
      "  ],\n",
      "  \"attention_dropout\": 0.1,\n",
      "  \"dim\": 768,\n",
      "  \"dropout\": 0.1,\n",
      "  \"hidden_dim\": 3072,\n",
      "  \"id2label\": {\n",
      "    \"0\": \"LABEL_0\",\n",
      "    \"1\": \"LABEL_1\",\n",
      "    \"2\": \"LABEL_2\",\n",
      "    \"3\": \"LABEL_3\",\n",
      "    \"4\": \"LABEL_4\",\n",
      "    \"5\": \"LABEL_5\",\n",
      "    \"6\": \"LABEL_6\"\n",
      "  },\n",
      "  \"initializer_range\": 0.02,\n",
      "  \"label2id\": {\n",
      "    \"LABEL_0\": 0,\n",
      "    \"LABEL_1\": 1,\n",
      "    \"LABEL_2\": 2,\n",
      "    \"LABEL_3\": 3,\n",
      "    \"LABEL_4\": 4,\n",
      "    \"LABEL_5\": 5,\n",
      "    \"LABEL_6\": 6\n",
      "  },\n",
      "  \"max_position_embeddings\": 512,\n",
      "  \"model_type\": \"distilbert\",\n",
      "  \"n_heads\": 12,\n",
      "  \"n_layers\": 6,\n",
      "  \"pad_token_id\": 0,\n",
      "  \"qa_dropout\": 0.1,\n",
      "  \"seq_classif_dropout\": 0.2,\n",
      "  \"sinusoidal_pos_embds\": false,\n",
      "  \"tie_weights_\": true,\n",
      "  \"transformers_version\": \"4.46.3\",\n",
      "  \"vocab_size\": 30522\n",
      "}\n",
      "\n",
      "loading weights file model.safetensors from cache at C:\\Users\\Saket\\.cache\\huggingface\\hub\\models--distilbert-base-uncased\\snapshots\\12040accade4e8a0f71eabdb258fecc2e7e948be\\model.safetensors\n",
      "Some weights of the model checkpoint at distilbert-base-uncased were not used when initializing DistilBertForSequenceClassification: ['vocab_layer_norm.bias', 'vocab_layer_norm.weight', 'vocab_projector.bias', 'vocab_transform.bias', 'vocab_transform.weight']\n",
      "- This IS expected if you are initializing DistilBertForSequenceClassification from the checkpoint of a model trained on another task or with another architecture (e.g. initializing a BertForSequenceClassification model from a BertForPreTraining model).\n",
      "- This IS NOT expected if you are initializing DistilBertForSequenceClassification from the checkpoint of a model that you expect to be exactly identical (initializing a BertForSequenceClassification model from a BertForSequenceClassification model).\n",
      "Some weights of DistilBertForSequenceClassification were not initialized from the model checkpoint at distilbert-base-uncased and are newly initialized: ['classifier.bias', 'classifier.weight', 'pre_classifier.bias', 'pre_classifier.weight']\n",
      "You should probably TRAIN this model on a down-stream task to be able to use it for predictions and inference.\n"
     ]
    }
   ],
   "source": [
    "frozen_sequence_clf_model = DistilBertForSequenceClassification.from_pretrained('distilbert-base-uncased', num_labels = len(unique_sequence_labels))"
   ]
  },
  {
   "cell_type": "code",
   "execution_count": 33,
   "id": "3345b136",
   "metadata": {},
   "outputs": [],
   "source": [
    "for param in frozen_sequence_clf_model.distilbert.parameters():\n",
    "    param.requires_grad = False"
   ]
  },
  {
   "cell_type": "code",
   "execution_count": 34,
   "id": "dda8bada",
   "metadata": {},
   "outputs": [
    {
     "name": "stderr",
     "output_type": "stream",
     "text": [
      "PyTorch: setting up devices\n",
      "The default value for the training argument `--report_to` will change in v5 (from all installed integrations to none). In v5, you will need to use `--report_to all` to get the same behavior as now. You should start updating your code and make this info disappear :-).\n"
     ]
    }
   ],
   "source": [
    "epochs = 2\n",
    "\n",
    "training_args = TrainingArguments(\n",
    "    output_dir = \"./snips_clf/results\",\n",
    "    num_train_epochs = epochs,\n",
    "    per_device_train_batch_size = 32,\n",
    "    per_device_eval_batch_size = 32,\n",
    "    load_best_model_at_end = True,\n",
    "    \n",
    "    # some deep learning params that the trainer is able to take in\n",
    "    \n",
    "    warmup_steps = len(seq_clf_tokenized_snips['train']) // 5, # no. of warmup steps for learning rate scheduler\n",
    "    weight_decay = 0.05,\n",
    "    \n",
    "    logging_steps = 1,\n",
    "    log_level = 'info',\n",
    "    eval_strategy = 'epoch',\n",
    "    save_strategy = 'epoch'\n",
    ")\n",
    "\n",
    "\n",
    "trainer = Trainer(\n",
    "    model = frozen_sequence_clf_model,\n",
    "    args = training_args,\n",
    "    train_dataset = seq_clf_tokenized_snips['train'],\n",
    "    eval_dataset = seq_clf_tokenized_snips['test'],\n",
    "    compute_metrics = compute_metrics,\n",
    "    data_collator = data_collator\n",
    ")"
   ]
  },
  {
   "cell_type": "code",
   "execution_count": 35,
   "id": "77ce3324",
   "metadata": {},
   "outputs": [
    {
     "name": "stderr",
     "output_type": "stream",
     "text": [
      "The following columns in the evaluation set don't have a corresponding argument in `DistilBertForSequenceClassification.forward` and have been ignored: utterance. If utterance are not expected by `DistilBertForSequenceClassification.forward`,  you can safely ignore this message.\n",
      "\n",
      "***** Running Evaluation *****\n",
      "  Num examples = 2617\n",
      "  Batch size = 32\n"
     ]
    },
    {
     "data": {
      "text/html": [
       "\n",
       "    <div>\n",
       "      \n",
       "      <progress value='164' max='82' style='width:300px; height:20px; vertical-align: middle;'></progress>\n",
       "      [82/82 07:59]\n",
       "    </div>\n",
       "    "
      ],
      "text/plain": [
       "<IPython.core.display.HTML object>"
      ]
     },
     "metadata": {},
     "output_type": "display_data"
    },
    {
     "data": {
      "text/plain": [
       "{'eval_loss': 1.9445534944534302,\n",
       " 'eval_model_preparation_time': 0.0,\n",
       " 'eval_accuracy': 0.1815055406954528,\n",
       " 'eval_runtime': 75.943,\n",
       " 'eval_samples_per_second': 34.46,\n",
       " 'eval_steps_per_second': 1.08}"
      ]
     },
     "execution_count": 35,
     "metadata": {},
     "output_type": "execute_result"
    }
   ],
   "source": [
    "trainer.evaluate()"
   ]
  },
  {
   "cell_type": "code",
   "execution_count": 36,
   "id": "06a5c4f9",
   "metadata": {},
   "outputs": [
    {
     "name": "stderr",
     "output_type": "stream",
     "text": [
      "The following columns in the training set don't have a corresponding argument in `DistilBertForSequenceClassification.forward` and have been ignored: utterance. If utterance are not expected by `DistilBertForSequenceClassification.forward`,  you can safely ignore this message.\n",
      "***** Running training *****\n",
      "  Num examples = 10,467\n",
      "  Num Epochs = 2\n",
      "  Instantaneous batch size per device = 32\n",
      "  Total train batch size (w. parallel, distributed & accumulation) = 32\n",
      "  Gradient Accumulation steps = 1\n",
      "  Total optimization steps = 656\n",
      "  Number of trainable parameters = 595,975\n"
     ]
    },
    {
     "data": {
      "text/html": [
       "\n",
       "    <div>\n",
       "      \n",
       "      <progress value='656' max='656' style='width:300px; height:20px; vertical-align: middle;'></progress>\n",
       "      [656/656 13:06, Epoch 2/2]\n",
       "    </div>\n",
       "    <table border=\"1\" class=\"dataframe\">\n",
       "  <thead>\n",
       " <tr style=\"text-align: left;\">\n",
       "      <th>Epoch</th>\n",
       "      <th>Training Loss</th>\n",
       "      <th>Validation Loss</th>\n",
       "      <th>Model Preparation Time</th>\n",
       "      <th>Accuracy</th>\n",
       "    </tr>\n",
       "  </thead>\n",
       "  <tbody>\n",
       "    <tr>\n",
       "      <td>1</td>\n",
       "      <td>1.871800</td>\n",
       "      <td>1.865400</td>\n",
       "      <td>0.000000</td>\n",
       "      <td>0.630875</td>\n",
       "    </tr>\n",
       "    <tr>\n",
       "      <td>2</td>\n",
       "      <td>1.612000</td>\n",
       "      <td>1.578199</td>\n",
       "      <td>0.000000</td>\n",
       "      <td>0.855942</td>\n",
       "    </tr>\n",
       "  </tbody>\n",
       "</table><p>"
      ],
      "text/plain": [
       "<IPython.core.display.HTML object>"
      ]
     },
     "metadata": {},
     "output_type": "display_data"
    },
    {
     "name": "stderr",
     "output_type": "stream",
     "text": [
      "The following columns in the evaluation set don't have a corresponding argument in `DistilBertForSequenceClassification.forward` and have been ignored: utterance. If utterance are not expected by `DistilBertForSequenceClassification.forward`,  you can safely ignore this message.\n",
      "\n",
      "***** Running Evaluation *****\n",
      "  Num examples = 2617\n",
      "  Batch size = 32\n",
      "Saving model checkpoint to ./snips_clf/results\\checkpoint-328\n",
      "Configuration saved in ./snips_clf/results\\checkpoint-328\\config.json\n",
      "Model weights saved in ./snips_clf/results\\checkpoint-328\\model.safetensors\n",
      "Saving model checkpoint to ./snips_clf/results\\checkpoint-656\n",
      "Configuration saved in ./snips_clf/results\\checkpoint-656\\config.json\n",
      "Model weights saved in ./snips_clf/results\\checkpoint-656\\model.safetensors\n",
      "The following columns in the evaluation set don't have a corresponding argument in `DistilBertForSequenceClassification.forward` and have been ignored: utterance. If utterance are not expected by `DistilBertForSequenceClassification.forward`,  you can safely ignore this message.\n",
      "\n",
      "***** Running Evaluation *****\n",
      "  Num examples = 2617\n",
      "  Batch size = 32\n",
      "Saving model checkpoint to ./snips_clf/results\\checkpoint-656\n",
      "Configuration saved in ./snips_clf/results\\checkpoint-656\\config.json\n",
      "Model weights saved in ./snips_clf/results\\checkpoint-656\\model.safetensors\n",
      "\n",
      "\n",
      "Training completed. Do not forget to share your model on huggingface.co/models =)\n",
      "\n",
      "\n",
      "Loading best model from ./snips_clf/results\\checkpoint-656 (score: 1.5781985521316528).\n"
     ]
    },
    {
     "data": {
      "text/plain": [
       "TrainOutput(global_step=656, training_loss=1.8450886694396413, metrics={'train_runtime': 788.1924, 'train_samples_per_second': 26.56, 'train_steps_per_second': 0.832, 'total_flos': 117122748262158.0, 'train_loss': 1.8450886694396413, 'epoch': 2.0})"
      ]
     },
     "execution_count": 36,
     "metadata": {},
     "output_type": "execute_result"
    }
   ],
   "source": [
    "trainer.train()"
   ]
  },
  {
   "cell_type": "code",
   "execution_count": 37,
   "id": "d96ffa3f",
   "metadata": {},
   "outputs": [
    {
     "name": "stderr",
     "output_type": "stream",
     "text": [
      "The following columns in the evaluation set don't have a corresponding argument in `DistilBertForSequenceClassification.forward` and have been ignored: utterance. If utterance are not expected by `DistilBertForSequenceClassification.forward`,  you can safely ignore this message.\n",
      "\n",
      "***** Running Evaluation *****\n",
      "  Num examples = 2617\n",
      "  Batch size = 32\n"
     ]
    },
    {
     "data": {
      "text/html": [
       "\n",
       "    <div>\n",
       "      \n",
       "      <progress value='82' max='82' style='width:300px; height:20px; vertical-align: middle;'></progress>\n",
       "      [82/82 01:13]\n",
       "    </div>\n",
       "    "
      ],
      "text/plain": [
       "<IPython.core.display.HTML object>"
      ]
     },
     "metadata": {},
     "output_type": "display_data"
    },
    {
     "data": {
      "text/plain": [
       "{'eval_loss': 1.5781985521316528,\n",
       " 'eval_model_preparation_time': 0.0,\n",
       " 'eval_accuracy': 0.8559419182269774,\n",
       " 'eval_runtime': 74.4121,\n",
       " 'eval_samples_per_second': 35.169,\n",
       " 'eval_steps_per_second': 1.102,\n",
       " 'epoch': 2.0}"
      ]
     },
     "execution_count": 37,
     "metadata": {},
     "output_type": "execute_result"
    }
   ],
   "source": [
    "trainer.evaluate()"
   ]
  },
  {
   "cell_type": "code",
   "execution_count": null,
   "id": "01c5a88c",
   "metadata": {},
   "outputs": [],
   "source": []
  }
 ],
 "metadata": {
  "kernelspec": {
   "display_name": "Python 3 (ipykernel)",
   "language": "python",
   "name": "python3"
  },
  "language_info": {
   "codemirror_mode": {
    "name": "ipython",
    "version": 3
   },
   "file_extension": ".py",
   "mimetype": "text/x-python",
   "name": "python",
   "nbconvert_exporter": "python",
   "pygments_lexer": "ipython3",
   "version": "3.8.8"
  }
 },
 "nbformat": 4,
 "nbformat_minor": 5
}
